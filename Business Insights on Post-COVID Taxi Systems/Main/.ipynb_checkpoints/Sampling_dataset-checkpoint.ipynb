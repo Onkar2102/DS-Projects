{
 "cells": [
  {
   "cell_type": "markdown",
   "id": "870aa1aa",
   "metadata": {},
   "source": [
    "## importing required packages"
   ]
  },
  {
   "cell_type": "code",
   "execution_count": null,
   "id": "316801ea",
   "metadata": {},
   "outputs": [],
   "source": []
  },
  {
   "cell_type": "markdown",
   "id": "79faf444",
   "metadata": {},
   "source": [
    "- import numpy for linear algebra\n",
    "- import pandas for loading the dataset, data processing\n",
    "- import matplotlib and seaborn for visualization"
   ]
  },
  {
   "cell_type": "code",
   "execution_count": 1,
   "id": "4ed31b29",
   "metadata": {},
   "outputs": [],
   "source": [
    "import numpy as np\n",
    "import pandas as pd\n",
    "import matplotlib.pyplot as plt\n",
    "import seaborn as sns"
   ]
  },
  {
   "cell_type": "code",
   "execution_count": null,
   "id": "d7d1863d",
   "metadata": {},
   "outputs": [],
   "source": []
  },
  {
   "cell_type": "code",
   "execution_count": null,
   "id": "c8a88409",
   "metadata": {},
   "outputs": [],
   "source": []
  },
  {
   "cell_type": "markdown",
   "id": "8b560c5b",
   "metadata": {},
   "source": [
    "## load the datasets\n",
    "\n",
    "- to take the sample :\n",
    "  - we sample() function of pandas to extract sample from pandas.dataframe, using the random sampling method"
   ]
  },
  {
   "cell_type": "code",
   "execution_count": null,
   "id": "9ca95be6",
   "metadata": {},
   "outputs": [],
   "source": []
  },
  {
   "cell_type": "markdown",
   "id": "9a89cbdc",
   "metadata": {},
   "source": [
    "###### january, 2020"
   ]
  },
  {
   "cell_type": "code",
   "execution_count": 2,
   "id": "7004ff27",
   "metadata": {},
   "outputs": [
    {
     "name": "stderr",
     "output_type": "stream",
     "text": [
      "C:\\Users\\onkar\\AppData\\Local\\Programs\\Python\\Python39\\lib\\site-packages\\IPython\\core\\interactiveshell.py:3444: DtypeWarning: Columns (6) have mixed types.Specify dtype option on import or set low_memory=False.\n",
      "  exec(code_obj, self.user_global_ns, self.user_ns)\n"
     ]
    }
   ],
   "source": [
    "df_2020_jan = pd.read_csv('D:/Project/Datasets ( from 01-2021 to 07-2021 )/yellow_tripdata_2020-01.csv')\n",
    "df1 = df_2020_jan.sample(n = 5000)\n",
    "# df1.head()"
   ]
  },
  {
   "cell_type": "markdown",
   "id": "511c042d",
   "metadata": {},
   "source": [
    "###### february, 2020"
   ]
  },
  {
   "cell_type": "code",
   "execution_count": 3,
   "id": "551298b7",
   "metadata": {},
   "outputs": [],
   "source": [
    "df_2020_feb = pd.read_csv('D:/Project/Datasets ( from 01-2021 to 07-2021 )/yellow_tripdata_2020-02.csv')\n",
    "df2 = df_2020_feb.sample(n = 5000)\n",
    "# df2.head()"
   ]
  },
  {
   "cell_type": "markdown",
   "id": "ae7aa9c1",
   "metadata": {},
   "source": [
    "###### march, 2020"
   ]
  },
  {
   "cell_type": "code",
   "execution_count": 4,
   "id": "d6597ab8",
   "metadata": {},
   "outputs": [],
   "source": [
    "df_2020_mar = pd.read_csv('D:/Project/Datasets ( from 01-2021 to 07-2021 )/yellow_tripdata_2020-03.csv')\n",
    "df3 = df_2020_mar.sample(n = 5000)\n",
    "# df3.head()"
   ]
  },
  {
   "cell_type": "markdown",
   "id": "03c9959a",
   "metadata": {},
   "source": [
    "###### aprl, 2020"
   ]
  },
  {
   "cell_type": "code",
   "execution_count": 5,
   "id": "8e622925",
   "metadata": {},
   "outputs": [],
   "source": [
    "df_2020_apr = pd.read_csv('D:/Project/Datasets ( from 01-2021 to 07-2021 )/yellow_tripdata_2020-04.csv')\n",
    "df4 = df_2020_apr.sample(n = 5000)\n",
    "# df4.head()"
   ]
  },
  {
   "cell_type": "markdown",
   "id": "b8377c31",
   "metadata": {},
   "source": [
    "###### may, 2020"
   ]
  },
  {
   "cell_type": "code",
   "execution_count": 6,
   "id": "1a7f910e",
   "metadata": {},
   "outputs": [],
   "source": [
    "df_2020_may = pd.read_csv('D:/Project/Datasets ( from 01-2021 to 07-2021 )/yellow_tripdata_2020-05.csv')\n",
    "df5 = df_2020_may.sample(n = 5000)\n",
    "# df5.head()"
   ]
  },
  {
   "cell_type": "markdown",
   "id": "7fdf607e",
   "metadata": {},
   "source": [
    "###### june,2020"
   ]
  },
  {
   "cell_type": "code",
   "execution_count": 7,
   "id": "ff55acff",
   "metadata": {},
   "outputs": [],
   "source": [
    "df_2020_jun = pd.read_csv('D:/Project/Datasets ( from 01-2021 to 07-2021 )/yellow_tripdata_2020-06.csv')\n",
    "df6 = df_2020_jun.sample(n = 5000)\n",
    "# df6.head()"
   ]
  },
  {
   "cell_type": "markdown",
   "id": "d9570009",
   "metadata": {},
   "source": [
    "###### july, 2020"
   ]
  },
  {
   "cell_type": "code",
   "execution_count": 8,
   "id": "af6844f0",
   "metadata": {},
   "outputs": [],
   "source": [
    "df_2020_jul = pd.read_csv('D:/Project/Datasets ( from 01-2021 to 07-2021 )/yellow_tripdata_2020-07.csv')\n",
    "df7 = df_2020_jul.sample(n = 5000)\n",
    "# df7.head()"
   ]
  },
  {
   "cell_type": "markdown",
   "id": "62e18c33",
   "metadata": {},
   "source": [
    "###### august, 2020"
   ]
  },
  {
   "cell_type": "code",
   "execution_count": 9,
   "id": "6f11d7ae",
   "metadata": {},
   "outputs": [],
   "source": [
    "df_2020_aug = pd.read_csv('D:/Project/Datasets ( from 01-2021 to 07-2021 )/yellow_tripdata_2020-08.csv')\n",
    "df8 = df_2020_aug.sample(n = 5000)\n",
    "# df8.head()"
   ]
  },
  {
   "cell_type": "markdown",
   "id": "66be4315",
   "metadata": {},
   "source": [
    "###### september, 2020"
   ]
  },
  {
   "cell_type": "code",
   "execution_count": 10,
   "id": "72796c2d",
   "metadata": {},
   "outputs": [],
   "source": [
    "df_2020_sept = pd.read_csv('D:/Project/Datasets ( from 01-2021 to 07-2021 )/yellow_tripdata_2020-09.csv')\n",
    "df9 = df_2020_sept.sample(n = 5000)\n",
    "# df9.head()"
   ]
  },
  {
   "cell_type": "markdown",
   "id": "2599dc07",
   "metadata": {},
   "source": [
    "###### october, 2020"
   ]
  },
  {
   "cell_type": "code",
   "execution_count": 11,
   "id": "87511110",
   "metadata": {},
   "outputs": [],
   "source": [
    "df_2020_oct = pd.read_csv('D:/Project/Datasets ( from 01-2021 to 07-2021 )/yellow_tripdata_2020-10.csv')\n",
    "df10 = df_2020_oct.sample(n = 5000)\n",
    "# df10.head()"
   ]
  },
  {
   "cell_type": "markdown",
   "id": "cc2f3dfb",
   "metadata": {},
   "source": [
    "###### november, 2020"
   ]
  },
  {
   "cell_type": "code",
   "execution_count": 12,
   "id": "c412e57d",
   "metadata": {},
   "outputs": [],
   "source": [
    "df_2020_nov = pd.read_csv('D:/Project/Datasets ( from 01-2021 to 07-2021 )/yellow_tripdata_2020-11.csv')\n",
    "df11 = df_2020_nov.sample(n = 5000)\n",
    "# df11.head()"
   ]
  },
  {
   "cell_type": "markdown",
   "id": "c7d33c98",
   "metadata": {},
   "source": [
    "###### december, 2020"
   ]
  },
  {
   "cell_type": "code",
   "execution_count": 13,
   "id": "a53e8063",
   "metadata": {},
   "outputs": [],
   "source": [
    "df_2020_dec = pd.read_csv('D:/Project/Datasets ( from 01-2021 to 07-2021 )/yellow_tripdata_2020-12.csv')\n",
    "df12 = df_2020_dec.sample(n = 5000)\n",
    "# df12.head()"
   ]
  },
  {
   "cell_type": "markdown",
   "id": "c77730e0",
   "metadata": {},
   "source": [
    "###### january, 2021"
   ]
  },
  {
   "cell_type": "code",
   "execution_count": 14,
   "id": "0db5614d",
   "metadata": {},
   "outputs": [],
   "source": [
    "df_2021_jan = pd.read_csv('D:/Project/Datasets ( from 01-2021 to 07-2021 )/yellow_tripdata_2021-01.csv')\n",
    "df13 = df_2021_jan.sample(n = 5000)\n",
    "# df13.head()"
   ]
  },
  {
   "cell_type": "markdown",
   "id": "9a5060a0",
   "metadata": {},
   "source": [
    "###### february, 2021"
   ]
  },
  {
   "cell_type": "code",
   "execution_count": 15,
   "id": "dbccaef6",
   "metadata": {},
   "outputs": [],
   "source": [
    "df_2021_feb = pd.read_csv('D:/Project/Datasets ( from 01-2021 to 07-2021 )/yellow_tripdata_2021-02.csv')\n",
    "df14 = df_2021_feb.sample(n = 5000)\n",
    "# df14.head()"
   ]
  },
  {
   "cell_type": "markdown",
   "id": "c971bc87",
   "metadata": {},
   "source": [
    "###### march, 2021"
   ]
  },
  {
   "cell_type": "code",
   "execution_count": 16,
   "id": "5823a6ec",
   "metadata": {},
   "outputs": [],
   "source": [
    "df_2021_mar = pd.read_csv('D:/Project/Datasets ( from 01-2021 to 07-2021 )/yellow_tripdata_2021-03.csv')\n",
    "df15 = df_2021_mar.sample(n = 5000)\n",
    "# df15.head()"
   ]
  },
  {
   "cell_type": "markdown",
   "id": "7d34fca9",
   "metadata": {},
   "source": [
    "###### april, 2021"
   ]
  },
  {
   "cell_type": "code",
   "execution_count": 17,
   "id": "5decd019",
   "metadata": {},
   "outputs": [],
   "source": [
    "df_2021_apr = pd.read_csv('D:/Project/Datasets ( from 01-2021 to 07-2021 )/yellow_tripdata_2021-04.csv')\n",
    "df16 = df_2021_apr.sample(n = 5000)\n",
    "# df16.head()"
   ]
  },
  {
   "cell_type": "markdown",
   "id": "b83691b0",
   "metadata": {},
   "source": [
    "###### may, 2021"
   ]
  },
  {
   "cell_type": "code",
   "execution_count": 18,
   "id": "b57beca0",
   "metadata": {},
   "outputs": [],
   "source": [
    "df_2021_may = pd.read_csv('D:/Project/Datasets ( from 01-2021 to 07-2021 )/yellow_tripdata_2021-05.csv')\n",
    "df17 = df_2021_may.sample(n = 5000)\n",
    "# df17.head()"
   ]
  },
  {
   "cell_type": "markdown",
   "id": "037db926",
   "metadata": {},
   "source": [
    "###### june, 2021"
   ]
  },
  {
   "cell_type": "code",
   "execution_count": 19,
   "id": "96d8f2b1",
   "metadata": {},
   "outputs": [],
   "source": [
    "df_2021_jun = pd.read_csv('D:/Project/Datasets ( from 01-2021 to 07-2021 )/yellow_tripdata_2021-06.csv')\n",
    "df18 = df_2021_jun.sample(n = 5000)\n",
    "# df18.head()"
   ]
  },
  {
   "cell_type": "markdown",
   "id": "c76e4cad",
   "metadata": {},
   "source": [
    "###### july, 2021"
   ]
  },
  {
   "cell_type": "code",
   "execution_count": 20,
   "id": "6445e6f1",
   "metadata": {},
   "outputs": [],
   "source": [
    "df_2021_jul = pd.read_csv('D:/Project/Datasets ( from 01-2021 to 07-2021 )/yellow_tripdata_2021-07.csv')\n",
    "df19 = df_2021_jul.sample(n = 5000)\n",
    "# df19.head()"
   ]
  },
  {
   "cell_type": "code",
   "execution_count": null,
   "id": "e2a8cca1",
   "metadata": {},
   "outputs": [],
   "source": []
  },
  {
   "cell_type": "markdown",
   "id": "17609ad4",
   "metadata": {},
   "source": [
    "###### to merge the datasets:\n",
    "\n",
    "- we use the concat() function of pandas to merge all the samples of datasets"
   ]
  },
  {
   "cell_type": "code",
   "execution_count": 21,
   "id": "2a397138",
   "metadata": {},
   "outputs": [],
   "source": [
    "df_merged = pd.concat([df1, df2, df3, df4, df5, df6, df7, df8, df9, df10, df11, df12, df13, df14, df15, df16, df17, df18, df19])\n",
    "# df_merged.head()"
   ]
  },
  {
   "cell_type": "markdown",
   "id": "fb1263ee",
   "metadata": {},
   "source": [
    "###### reset the index"
   ]
  },
  {
   "cell_type": "code",
   "execution_count": 22,
   "id": "c02b7c0e",
   "metadata": {},
   "outputs": [
    {
     "data": {
      "text/html": [
       "<div>\n",
       "<style scoped>\n",
       "    .dataframe tbody tr th:only-of-type {\n",
       "        vertical-align: middle;\n",
       "    }\n",
       "\n",
       "    .dataframe tbody tr th {\n",
       "        vertical-align: top;\n",
       "    }\n",
       "\n",
       "    .dataframe thead th {\n",
       "        text-align: right;\n",
       "    }\n",
       "</style>\n",
       "<table border=\"1\" class=\"dataframe\">\n",
       "  <thead>\n",
       "    <tr style=\"text-align: right;\">\n",
       "      <th></th>\n",
       "      <th>VendorID</th>\n",
       "      <th>tpep_pickup_datetime</th>\n",
       "      <th>tpep_dropoff_datetime</th>\n",
       "      <th>passenger_count</th>\n",
       "      <th>trip_distance</th>\n",
       "      <th>RatecodeID</th>\n",
       "      <th>store_and_fwd_flag</th>\n",
       "      <th>PULocationID</th>\n",
       "      <th>DOLocationID</th>\n",
       "      <th>payment_type</th>\n",
       "      <th>fare_amount</th>\n",
       "      <th>extra</th>\n",
       "      <th>mta_tax</th>\n",
       "      <th>tip_amount</th>\n",
       "      <th>tolls_amount</th>\n",
       "      <th>improvement_surcharge</th>\n",
       "      <th>total_amount</th>\n",
       "      <th>congestion_surcharge</th>\n",
       "    </tr>\n",
       "  </thead>\n",
       "  <tbody>\n",
       "    <tr>\n",
       "      <th>0</th>\n",
       "      <td>2.0</td>\n",
       "      <td>2020-01-27 22:56:45</td>\n",
       "      <td>2020-01-27 23:01:01</td>\n",
       "      <td>1.0</td>\n",
       "      <td>0.70</td>\n",
       "      <td>1.0</td>\n",
       "      <td>N</td>\n",
       "      <td>144</td>\n",
       "      <td>148</td>\n",
       "      <td>1.0</td>\n",
       "      <td>5.0</td>\n",
       "      <td>0.5</td>\n",
       "      <td>0.5</td>\n",
       "      <td>1.76</td>\n",
       "      <td>0.0</td>\n",
       "      <td>0.3</td>\n",
       "      <td>10.56</td>\n",
       "      <td>2.5</td>\n",
       "    </tr>\n",
       "    <tr>\n",
       "      <th>1</th>\n",
       "      <td>1.0</td>\n",
       "      <td>2020-01-29 17:55:13</td>\n",
       "      <td>2020-01-29 18:07:49</td>\n",
       "      <td>1.0</td>\n",
       "      <td>1.20</td>\n",
       "      <td>1.0</td>\n",
       "      <td>N</td>\n",
       "      <td>161</td>\n",
       "      <td>237</td>\n",
       "      <td>1.0</td>\n",
       "      <td>9.0</td>\n",
       "      <td>3.5</td>\n",
       "      <td>0.5</td>\n",
       "      <td>2.65</td>\n",
       "      <td>0.0</td>\n",
       "      <td>0.3</td>\n",
       "      <td>15.95</td>\n",
       "      <td>2.5</td>\n",
       "    </tr>\n",
       "    <tr>\n",
       "      <th>2</th>\n",
       "      <td>1.0</td>\n",
       "      <td>2020-01-06 18:29:41</td>\n",
       "      <td>2020-01-06 18:34:38</td>\n",
       "      <td>2.0</td>\n",
       "      <td>1.00</td>\n",
       "      <td>1.0</td>\n",
       "      <td>N</td>\n",
       "      <td>143</td>\n",
       "      <td>238</td>\n",
       "      <td>1.0</td>\n",
       "      <td>6.0</td>\n",
       "      <td>3.5</td>\n",
       "      <td>0.5</td>\n",
       "      <td>2.05</td>\n",
       "      <td>0.0</td>\n",
       "      <td>0.3</td>\n",
       "      <td>12.35</td>\n",
       "      <td>2.5</td>\n",
       "    </tr>\n",
       "    <tr>\n",
       "      <th>3</th>\n",
       "      <td>1.0</td>\n",
       "      <td>2020-01-30 08:35:34</td>\n",
       "      <td>2020-01-30 09:04:06</td>\n",
       "      <td>1.0</td>\n",
       "      <td>1.90</td>\n",
       "      <td>1.0</td>\n",
       "      <td>N</td>\n",
       "      <td>186</td>\n",
       "      <td>163</td>\n",
       "      <td>1.0</td>\n",
       "      <td>17.5</td>\n",
       "      <td>2.5</td>\n",
       "      <td>0.5</td>\n",
       "      <td>4.15</td>\n",
       "      <td>0.0</td>\n",
       "      <td>0.3</td>\n",
       "      <td>24.95</td>\n",
       "      <td>2.5</td>\n",
       "    </tr>\n",
       "    <tr>\n",
       "      <th>4</th>\n",
       "      <td>2.0</td>\n",
       "      <td>2020-01-13 14:21:53</td>\n",
       "      <td>2020-01-13 14:27:31</td>\n",
       "      <td>1.0</td>\n",
       "      <td>1.08</td>\n",
       "      <td>1.0</td>\n",
       "      <td>N</td>\n",
       "      <td>158</td>\n",
       "      <td>246</td>\n",
       "      <td>1.0</td>\n",
       "      <td>6.5</td>\n",
       "      <td>0.0</td>\n",
       "      <td>0.5</td>\n",
       "      <td>2.45</td>\n",
       "      <td>0.0</td>\n",
       "      <td>0.3</td>\n",
       "      <td>12.25</td>\n",
       "      <td>2.5</td>\n",
       "    </tr>\n",
       "  </tbody>\n",
       "</table>\n",
       "</div>"
      ],
      "text/plain": [
       "   VendorID tpep_pickup_datetime tpep_dropoff_datetime  passenger_count  \\\n",
       "0       2.0  2020-01-27 22:56:45   2020-01-27 23:01:01              1.0   \n",
       "1       1.0  2020-01-29 17:55:13   2020-01-29 18:07:49              1.0   \n",
       "2       1.0  2020-01-06 18:29:41   2020-01-06 18:34:38              2.0   \n",
       "3       1.0  2020-01-30 08:35:34   2020-01-30 09:04:06              1.0   \n",
       "4       2.0  2020-01-13 14:21:53   2020-01-13 14:27:31              1.0   \n",
       "\n",
       "   trip_distance  RatecodeID store_and_fwd_flag  PULocationID  DOLocationID  \\\n",
       "0           0.70         1.0                  N           144           148   \n",
       "1           1.20         1.0                  N           161           237   \n",
       "2           1.00         1.0                  N           143           238   \n",
       "3           1.90         1.0                  N           186           163   \n",
       "4           1.08         1.0                  N           158           246   \n",
       "\n",
       "   payment_type  fare_amount  extra  mta_tax  tip_amount  tolls_amount  \\\n",
       "0           1.0          5.0    0.5      0.5        1.76           0.0   \n",
       "1           1.0          9.0    3.5      0.5        2.65           0.0   \n",
       "2           1.0          6.0    3.5      0.5        2.05           0.0   \n",
       "3           1.0         17.5    2.5      0.5        4.15           0.0   \n",
       "4           1.0          6.5    0.0      0.5        2.45           0.0   \n",
       "\n",
       "   improvement_surcharge  total_amount  congestion_surcharge  \n",
       "0                    0.3         10.56                   2.5  \n",
       "1                    0.3         15.95                   2.5  \n",
       "2                    0.3         12.35                   2.5  \n",
       "3                    0.3         24.95                   2.5  \n",
       "4                    0.3         12.25                   2.5  "
      ]
     },
     "execution_count": 22,
     "metadata": {},
     "output_type": "execute_result"
    }
   ],
   "source": [
    "df = df_merged.reset_index(drop=True)\n",
    "df.head()"
   ]
  },
  {
   "cell_type": "code",
   "execution_count": 23,
   "id": "aada607a",
   "metadata": {},
   "outputs": [],
   "source": [
    "df.to_csv('D:/Project/Main/Final_dataset.csv')"
   ]
  },
  {
   "cell_type": "code",
   "execution_count": null,
   "id": "4f28077a",
   "metadata": {},
   "outputs": [],
   "source": []
  },
  {
   "cell_type": "code",
   "execution_count": null,
   "id": "77716b2c",
   "metadata": {},
   "outputs": [],
   "source": []
  },
  {
   "cell_type": "code",
   "execution_count": null,
   "id": "cfd28cd2",
   "metadata": {},
   "outputs": [],
   "source": []
  }
 ],
 "metadata": {
  "kernelspec": {
   "display_name": "Python 3 (ipykernel)",
   "language": "python",
   "name": "python3"
  },
  "language_info": {
   "codemirror_mode": {
    "name": "ipython",
    "version": 3
   },
   "file_extension": ".py",
   "mimetype": "text/x-python",
   "name": "python",
   "nbconvert_exporter": "python",
   "pygments_lexer": "ipython3",
   "version": "3.9.7"
  }
 },
 "nbformat": 4,
 "nbformat_minor": 5
}
