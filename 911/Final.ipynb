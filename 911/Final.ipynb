{
 "cells": [
  {
   "cell_type": "markdown",
   "id": "f5684adc",
   "metadata": {},
   "source": [
    "# Analysis and Prediction of 911 Calls based on Location\n"
   ]
  },
  {
   "cell_type": "markdown",
   "id": "9b17cbff",
   "metadata": {},
   "source": [
    "# 1.Data Selection"
   ]
  },
  {
   "cell_type": "markdown",
   "id": "22115271",
   "metadata": {},
   "source": [
    "## For the purposes of this experimental project, the 911 records for Baltimore County have been used, downloaded from Baltimore policedepartment’s website "
   ]
  },
  {
   "cell_type": "markdown",
   "id": "23406bbf",
   "metadata": {},
   "source": [
    "### https://data.baltimorecity.gov/datasets/911-calls-for-service-2019/explore"
   ]
  },
  {
   "cell_type": "markdown",
   "id": "78ffe220",
   "metadata": {},
   "source": [
    "## Import numpy and pandas"
   ]
  },
  {
   "cell_type": "code",
   "execution_count": 1,
   "id": "ec8a6392",
   "metadata": {},
   "outputs": [],
   "source": [
    "import pandas as pd\n",
    "import numpy as np"
   ]
  },
  {
   "cell_type": "markdown",
   "id": "bfaa6122",
   "metadata": {},
   "source": [
    "## Import visualization libraries and set %matplotlib inline. "
   ]
  },
  {
   "cell_type": "code",
   "execution_count": 2,
   "id": "2a296a89",
   "metadata": {},
   "outputs": [],
   "source": [
    "import matplotlib.pyplot as plt\n",
    "import seaborn as sns\n",
    "sns.set_style('whitegrid')\n",
    "%matplotlib inline"
   ]
  },
  {
   "cell_type": "markdown",
   "id": "a59ef615",
   "metadata": {},
   "source": [
    "## Read in the csv file as a dataframe called df "
   ]
  },
  {
   "cell_type": "code",
   "execution_count": 3,
   "id": "f2777b41",
   "metadata": {},
   "outputs": [],
   "source": [
    "df = pd.read_csv('Final.csv')"
   ]
  },
  {
   "cell_type": "markdown",
   "id": "a0540b83",
   "metadata": {},
   "source": [
    "## Check the info() of the df"
   ]
  },
  {
   "cell_type": "code",
   "execution_count": 4,
   "id": "6574a368",
   "metadata": {},
   "outputs": [
    {
     "name": "stdout",
     "output_type": "stream",
     "text": [
      "<class 'pandas.core.frame.DataFrame'>\n",
      "RangeIndex: 100671 entries, 0 to 100670\n",
      "Data columns (total 22 columns):\n",
      " #   Column                       Non-Null Count   Dtype  \n",
      "---  ------                       --------------   -----  \n",
      " 0   Unnamed: 0                   100671 non-null  int64  \n",
      " 1   objectid                     100671 non-null  int64  \n",
      " 2   recordid                     100671 non-null  int64  \n",
      " 3   callkey                      100671 non-null  object \n",
      " 4   calldatetime                 100671 non-null  object \n",
      " 5   priority                     100671 non-null  object \n",
      " 6   district                     100671 non-null  object \n",
      " 7   description                  100671 non-null  object \n",
      " 8   callnumber                   100671 non-null  object \n",
      " 9   incidentlocation             100671 non-null  object \n",
      " 10  location                     100671 non-null  object \n",
      " 11  neighborhood                 98994 non-null   object \n",
      " 12  policedistrict               98995 non-null   object \n",
      " 13  policepost                   98998 non-null   float64\n",
      " 14  councildistrict              99002 non-null   float64\n",
      " 15  sheriffdistricts             99000 non-null   object \n",
      " 16  community_statistical_areas  98966 non-null   object \n",
      " 17  census_tracts                98995 non-null   object \n",
      " 18  vrizones                     17598 non-null   object \n",
      " 19  zipcode                      98970 non-null   float64\n",
      " 20  latitude                     100671 non-null  float64\n",
      " 21  longitude                    100671 non-null  float64\n",
      "dtypes: float64(5), int64(3), object(14)\n",
      "memory usage: 16.9+ MB\n"
     ]
    }
   ],
   "source": [
    "df.info()"
   ]
  },
  {
   "cell_type": "markdown",
   "id": "0c8bf9f3",
   "metadata": {},
   "source": [
    "## Check the head of df"
   ]
  },
  {
   "cell_type": "code",
   "execution_count": 5,
   "id": "832470ee",
   "metadata": {
    "scrolled": true
   },
   "outputs": [
    {
     "data": {
      "text/html": [
       "<div>\n",
       "<style scoped>\n",
       "    .dataframe tbody tr th:only-of-type {\n",
       "        vertical-align: middle;\n",
       "    }\n",
       "\n",
       "    .dataframe tbody tr th {\n",
       "        vertical-align: top;\n",
       "    }\n",
       "\n",
       "    .dataframe thead th {\n",
       "        text-align: right;\n",
       "    }\n",
       "</style>\n",
       "<table border=\"1\" class=\"dataframe\">\n",
       "  <thead>\n",
       "    <tr style=\"text-align: right;\">\n",
       "      <th></th>\n",
       "      <th>Unnamed: 0</th>\n",
       "      <th>objectid</th>\n",
       "      <th>recordid</th>\n",
       "      <th>callkey</th>\n",
       "      <th>calldatetime</th>\n",
       "      <th>priority</th>\n",
       "      <th>district</th>\n",
       "      <th>description</th>\n",
       "      <th>callnumber</th>\n",
       "      <th>incidentlocation</th>\n",
       "      <th>...</th>\n",
       "      <th>policedistrict</th>\n",
       "      <th>policepost</th>\n",
       "      <th>councildistrict</th>\n",
       "      <th>sheriffdistricts</th>\n",
       "      <th>community_statistical_areas</th>\n",
       "      <th>census_tracts</th>\n",
       "      <th>vrizones</th>\n",
       "      <th>zipcode</th>\n",
       "      <th>latitude</th>\n",
       "      <th>longitude</th>\n",
       "    </tr>\n",
       "  </thead>\n",
       "  <tbody>\n",
       "    <tr>\n",
       "      <th>0</th>\n",
       "      <td>85214</td>\n",
       "      <td>318342</td>\n",
       "      <td>6929743</td>\n",
       "      <td>5B01020A5DEB0B6B</td>\n",
       "      <td>2019/12/06 21:16:00+00</td>\n",
       "      <td>Medium</td>\n",
       "      <td>ED</td>\n",
       "      <td>COMMON ASSAULT</td>\n",
       "      <td>P193404470</td>\n",
       "      <td>900 N CAROLINE ST</td>\n",
       "      <td>...</td>\n",
       "      <td>Eastern</td>\n",
       "      <td>313.0</td>\n",
       "      <td>12.0</td>\n",
       "      <td>D5</td>\n",
       "      <td>Oldtown/Middle East</td>\n",
       "      <td>Census Tract 704</td>\n",
       "      <td>NaN</td>\n",
       "      <td>21205.0</td>\n",
       "      <td>40.733733</td>\n",
       "      <td>-74.000338</td>\n",
       "    </tr>\n",
       "    <tr>\n",
       "      <th>1</th>\n",
       "      <td>105196</td>\n",
       "      <td>784582</td>\n",
       "      <td>6014778</td>\n",
       "      <td>9C01020A5C881135</td>\n",
       "      <td>2019/03/12 16:06:00+00</td>\n",
       "      <td>Non-Emergency</td>\n",
       "      <td>NE</td>\n",
       "      <td>Repairs/Service</td>\n",
       "      <td>P190712828</td>\n",
       "      <td>BIDDLE</td>\n",
       "      <td>...</td>\n",
       "      <td>NaN</td>\n",
       "      <td>NaN</td>\n",
       "      <td>NaN</td>\n",
       "      <td>NaN</td>\n",
       "      <td>NaN</td>\n",
       "      <td>NaN</td>\n",
       "      <td>NaN</td>\n",
       "      <td>NaN</td>\n",
       "      <td>46.314475</td>\n",
       "      <td>11.048029</td>\n",
       "    </tr>\n",
       "    <tr>\n",
       "      <th>2</th>\n",
       "      <td>102284</td>\n",
       "      <td>788643</td>\n",
       "      <td>6021901</td>\n",
       "      <td>9C01020A5C8A48B9</td>\n",
       "      <td>2019/03/14 08:27:00+00</td>\n",
       "      <td>Non-Emergency</td>\n",
       "      <td>SE</td>\n",
       "      <td>Court</td>\n",
       "      <td>P190731096</td>\n",
       "      <td>TCE</td>\n",
       "      <td>...</td>\n",
       "      <td>Eastern</td>\n",
       "      <td>342.0</td>\n",
       "      <td>12.0</td>\n",
       "      <td>D5</td>\n",
       "      <td>Clifton-Berea</td>\n",
       "      <td>Census Tract 805</td>\n",
       "      <td>Eastern1</td>\n",
       "      <td>21213.0</td>\n",
       "      <td>39.314977</td>\n",
       "      <td>-76.603728</td>\n",
       "    </tr>\n",
       "    <tr>\n",
       "      <th>3</th>\n",
       "      <td>27881</td>\n",
       "      <td>278633</td>\n",
       "      <td>6644983</td>\n",
       "      <td>5A01020A5D90C7BA</td>\n",
       "      <td>2019/09/29 11:03:00+00</td>\n",
       "      <td>Medium</td>\n",
       "      <td>NE</td>\n",
       "      <td>COMMON ASSAULT</td>\n",
       "      <td>P192721352</td>\n",
       "      <td>5100 RICHARD AV</td>\n",
       "      <td>...</td>\n",
       "      <td>Northeastern</td>\n",
       "      <td>426.0</td>\n",
       "      <td>3.0</td>\n",
       "      <td>D4</td>\n",
       "      <td>Lauraville</td>\n",
       "      <td>Census Tract 2703.02</td>\n",
       "      <td>NaN</td>\n",
       "      <td>21214.0</td>\n",
       "      <td>39.343306</td>\n",
       "      <td>-76.557530</td>\n",
       "    </tr>\n",
       "    <tr>\n",
       "      <th>4</th>\n",
       "      <td>27313</td>\n",
       "      <td>1259659</td>\n",
       "      <td>6924624</td>\n",
       "      <td>9C01020A5DE99527</td>\n",
       "      <td>2019/12/05 18:39:00+00</td>\n",
       "      <td>Non-Emergency</td>\n",
       "      <td>WD</td>\n",
       "      <td>Business Check</td>\n",
       "      <td>P193393800</td>\n",
       "      <td>1700 W NORTH AV</td>\n",
       "      <td>...</td>\n",
       "      <td>Western</td>\n",
       "      <td>742.0</td>\n",
       "      <td>7.0</td>\n",
       "      <td>D9</td>\n",
       "      <td>Sandtown-Winchester/Harlem Park</td>\n",
       "      <td>Census Tract 1502</td>\n",
       "      <td>Western</td>\n",
       "      <td>21217.0</td>\n",
       "      <td>39.303932</td>\n",
       "      <td>-76.643138</td>\n",
       "    </tr>\n",
       "    <tr>\n",
       "      <th>5</th>\n",
       "      <td>41761</td>\n",
       "      <td>1374959</td>\n",
       "      <td>6198525</td>\n",
       "      <td>A701020A5CBEF173</td>\n",
       "      <td>2019/04/23 07:05:00+00</td>\n",
       "      <td>Non-Emergency</td>\n",
       "      <td>WD</td>\n",
       "      <td>Business Check</td>\n",
       "      <td>P191130842</td>\n",
       "      <td>900 N MONROE ST</td>\n",
       "      <td>...</td>\n",
       "      <td>Western</td>\n",
       "      <td>722.0</td>\n",
       "      <td>9.0</td>\n",
       "      <td>D8</td>\n",
       "      <td>Sandtown-Winchester/Harlem Park</td>\n",
       "      <td>Census Tract 1604</td>\n",
       "      <td>NaN</td>\n",
       "      <td>21217.0</td>\n",
       "      <td>39.296294</td>\n",
       "      <td>-76.649802</td>\n",
       "    </tr>\n",
       "    <tr>\n",
       "      <th>6</th>\n",
       "      <td>85081</td>\n",
       "      <td>175012</td>\n",
       "      <td>6970225</td>\n",
       "      <td>5701020A5DF7B7F9</td>\n",
       "      <td>2019/12/16 11:59:00+00</td>\n",
       "      <td>Low</td>\n",
       "      <td>TRU</td>\n",
       "      <td>911/NO  VOICE</td>\n",
       "      <td>P193502037</td>\n",
       "      <td>400 W 26TH ST</td>\n",
       "      <td>...</td>\n",
       "      <td>Northern</td>\n",
       "      <td>511.0</td>\n",
       "      <td>12.0</td>\n",
       "      <td>D2</td>\n",
       "      <td>Medfield/Hampden/Woodberry/Remington</td>\n",
       "      <td>Census Tract 1207</td>\n",
       "      <td>NaN</td>\n",
       "      <td>21211.0</td>\n",
       "      <td>39.228114</td>\n",
       "      <td>-84.321327</td>\n",
       "    </tr>\n",
       "    <tr>\n",
       "      <th>7</th>\n",
       "      <td>131658</td>\n",
       "      <td>502180</td>\n",
       "      <td>6548809</td>\n",
       "      <td>6101020A5D6DCB4A</td>\n",
       "      <td>2019/09/02 22:09:00+00</td>\n",
       "      <td>Medium</td>\n",
       "      <td>SD</td>\n",
       "      <td>NARCOTICS</td>\n",
       "      <td>P192453593</td>\n",
       "      <td>POTEE ST/W PATAPSCO AV</td>\n",
       "      <td>...</td>\n",
       "      <td>Southern</td>\n",
       "      <td>913.0</td>\n",
       "      <td>10.0</td>\n",
       "      <td>D7</td>\n",
       "      <td>Brooklyn/Curtis Bay/Hawkins Point</td>\n",
       "      <td>Census Tract 2504.01</td>\n",
       "      <td>NaN</td>\n",
       "      <td>21225.0</td>\n",
       "      <td>40.652601</td>\n",
       "      <td>-73.949721</td>\n",
       "    </tr>\n",
       "    <tr>\n",
       "      <th>8</th>\n",
       "      <td>19565</td>\n",
       "      <td>879909</td>\n",
       "      <td>6228835</td>\n",
       "      <td>9C01020A5CC7D6BD</td>\n",
       "      <td>2019/04/30 01:01:00+00</td>\n",
       "      <td>Non-Emergency</td>\n",
       "      <td>NW</td>\n",
       "      <td>Hot Spot Check</td>\n",
       "      <td>P191200175</td>\n",
       "      <td>3100 SPAULDING AV</td>\n",
       "      <td>...</td>\n",
       "      <td>Northwestern</td>\n",
       "      <td>614.0</td>\n",
       "      <td>6.0</td>\n",
       "      <td>D1</td>\n",
       "      <td>Pimlico/Arlington/Hilltop</td>\n",
       "      <td>Census Tract 2717</td>\n",
       "      <td>NaN</td>\n",
       "      <td>21215.0</td>\n",
       "      <td>39.344459</td>\n",
       "      <td>-76.671235</td>\n",
       "    </tr>\n",
       "    <tr>\n",
       "      <th>9</th>\n",
       "      <td>133529</td>\n",
       "      <td>1279476</td>\n",
       "      <td>6967218</td>\n",
       "      <td>9C01020A5DF6BA70</td>\n",
       "      <td>2019/12/15 17:57:00+00</td>\n",
       "      <td>Non-Emergency</td>\n",
       "      <td>NW</td>\n",
       "      <td>COMMUNITY ENGAGE</td>\n",
       "      <td>P193493337</td>\n",
       "      <td>6400 REISTERSTOWN RD</td>\n",
       "      <td>...</td>\n",
       "      <td>Northwestern</td>\n",
       "      <td>632.0</td>\n",
       "      <td>5.0</td>\n",
       "      <td>D1</td>\n",
       "      <td>Glen-Fallstaff</td>\n",
       "      <td>Census Tract 2720.06</td>\n",
       "      <td>NaN</td>\n",
       "      <td>21215.0</td>\n",
       "      <td>42.894399</td>\n",
       "      <td>-74.344867</td>\n",
       "    </tr>\n",
       "    <tr>\n",
       "      <th>10</th>\n",
       "      <td>67492</td>\n",
       "      <td>240912</td>\n",
       "      <td>6576764</td>\n",
       "      <td>5901020A5D7871C4</td>\n",
       "      <td>2019/09/11 00:02:00+00</td>\n",
       "      <td>Non-Emergency</td>\n",
       "      <td>NE</td>\n",
       "      <td>Private Tow</td>\n",
       "      <td>P192540016</td>\n",
       "      <td>6100 LOCH RAVEN BL</td>\n",
       "      <td>...</td>\n",
       "      <td>Northeastern</td>\n",
       "      <td>415.0</td>\n",
       "      <td>4.0</td>\n",
       "      <td>D3</td>\n",
       "      <td>Loch Raven</td>\n",
       "      <td>Census Tract 2708.03</td>\n",
       "      <td>NaN</td>\n",
       "      <td>21239.0</td>\n",
       "      <td>39.360723</td>\n",
       "      <td>-76.581748</td>\n",
       "    </tr>\n",
       "    <tr>\n",
       "      <th>11</th>\n",
       "      <td>52855</td>\n",
       "      <td>1346430</td>\n",
       "      <td>5984989</td>\n",
       "      <td>A701020A5C7EC28E</td>\n",
       "      <td>2019/03/05 13:40:00+00</td>\n",
       "      <td>Non-Emergency</td>\n",
       "      <td>SW</td>\n",
       "      <td>Business Check</td>\n",
       "      <td>P190642237</td>\n",
       "      <td>4700 FREDERICK AV</td>\n",
       "      <td>...</td>\n",
       "      <td>Southwestern</td>\n",
       "      <td>822.0</td>\n",
       "      <td>8.0</td>\n",
       "      <td>D10</td>\n",
       "      <td>Beechfield/Ten Hills/West Hills</td>\n",
       "      <td>Census Tract 2804.03</td>\n",
       "      <td>NaN</td>\n",
       "      <td>21229.0</td>\n",
       "      <td>48.601070</td>\n",
       "      <td>0.273430</td>\n",
       "    </tr>\n",
       "    <tr>\n",
       "      <th>12</th>\n",
       "      <td>18892</td>\n",
       "      <td>95584</td>\n",
       "      <td>6505031</td>\n",
       "      <td>5501020A5D5DE8C5</td>\n",
       "      <td>2019/08/21 20:58:00+00</td>\n",
       "      <td>Low</td>\n",
       "      <td>CD</td>\n",
       "      <td>LARCENY F/AUTO</td>\n",
       "      <td>P192333694</td>\n",
       "      <td>900 N HOWARD ST</td>\n",
       "      <td>...</td>\n",
       "      <td>Central</td>\n",
       "      <td>142.0</td>\n",
       "      <td>11.0</td>\n",
       "      <td>D8</td>\n",
       "      <td>Midtown</td>\n",
       "      <td>Census Tract 1102</td>\n",
       "      <td>NaN</td>\n",
       "      <td>21201.0</td>\n",
       "      <td>38.317271</td>\n",
       "      <td>-88.903120</td>\n",
       "    </tr>\n",
       "    <tr>\n",
       "      <th>13</th>\n",
       "      <td>7314</td>\n",
       "      <td>143052</td>\n",
       "      <td>11947</td>\n",
       "      <td>5701020A5C6B84EF</td>\n",
       "      <td>2019/02/18 23:24:00+00</td>\n",
       "      <td>Medium</td>\n",
       "      <td>CD</td>\n",
       "      <td>BURGLARY</td>\n",
       "      <td>P190494317</td>\n",
       "      <td>2500 EUTAW PL</td>\n",
       "      <td>...</td>\n",
       "      <td>Central</td>\n",
       "      <td>133.0</td>\n",
       "      <td>7.0</td>\n",
       "      <td>D2</td>\n",
       "      <td>Penn North/Reservoir Hill</td>\n",
       "      <td>Census Tract 1301</td>\n",
       "      <td>NaN</td>\n",
       "      <td>21217.0</td>\n",
       "      <td>39.313701</td>\n",
       "      <td>-76.633292</td>\n",
       "    </tr>\n",
       "    <tr>\n",
       "      <th>14</th>\n",
       "      <td>139923</td>\n",
       "      <td>827028</td>\n",
       "      <td>6111779</td>\n",
       "      <td>9C01020A5CA58BC2</td>\n",
       "      <td>2019/04/04 00:44:00+00</td>\n",
       "      <td>Non-Emergency</td>\n",
       "      <td>ND</td>\n",
       "      <td>Business Check</td>\n",
       "      <td>P190940149</td>\n",
       "      <td>4700 YORK RD</td>\n",
       "      <td>...</td>\n",
       "      <td>Northern</td>\n",
       "      <td>524.0</td>\n",
       "      <td>4.0</td>\n",
       "      <td>D2</td>\n",
       "      <td>Greater Govans</td>\n",
       "      <td>Census Tract 2710.02</td>\n",
       "      <td>NaN</td>\n",
       "      <td>21212.0</td>\n",
       "      <td>39.346864</td>\n",
       "      <td>-76.606799</td>\n",
       "    </tr>\n",
       "  </tbody>\n",
       "</table>\n",
       "<p>15 rows × 22 columns</p>\n",
       "</div>"
      ],
      "text/plain": [
       "    Unnamed: 0  objectid  recordid           callkey            calldatetime  \\\n",
       "0        85214    318342   6929743  5B01020A5DEB0B6B  2019/12/06 21:16:00+00   \n",
       "1       105196    784582   6014778  9C01020A5C881135  2019/03/12 16:06:00+00   \n",
       "2       102284    788643   6021901  9C01020A5C8A48B9  2019/03/14 08:27:00+00   \n",
       "3        27881    278633   6644983  5A01020A5D90C7BA  2019/09/29 11:03:00+00   \n",
       "4        27313   1259659   6924624  9C01020A5DE99527  2019/12/05 18:39:00+00   \n",
       "5        41761   1374959   6198525  A701020A5CBEF173  2019/04/23 07:05:00+00   \n",
       "6        85081    175012   6970225  5701020A5DF7B7F9  2019/12/16 11:59:00+00   \n",
       "7       131658    502180   6548809  6101020A5D6DCB4A  2019/09/02 22:09:00+00   \n",
       "8        19565    879909   6228835  9C01020A5CC7D6BD  2019/04/30 01:01:00+00   \n",
       "9       133529   1279476   6967218  9C01020A5DF6BA70  2019/12/15 17:57:00+00   \n",
       "10       67492    240912   6576764  5901020A5D7871C4  2019/09/11 00:02:00+00   \n",
       "11       52855   1346430   5984989  A701020A5C7EC28E  2019/03/05 13:40:00+00   \n",
       "12       18892     95584   6505031  5501020A5D5DE8C5  2019/08/21 20:58:00+00   \n",
       "13        7314    143052     11947  5701020A5C6B84EF  2019/02/18 23:24:00+00   \n",
       "14      139923    827028   6111779  9C01020A5CA58BC2  2019/04/04 00:44:00+00   \n",
       "\n",
       "         priority district       description  callnumber  \\\n",
       "0          Medium       ED    COMMON ASSAULT  P193404470   \n",
       "1   Non-Emergency       NE   Repairs/Service  P190712828   \n",
       "2   Non-Emergency       SE             Court  P190731096   \n",
       "3          Medium       NE    COMMON ASSAULT  P192721352   \n",
       "4   Non-Emergency       WD    Business Check  P193393800   \n",
       "5   Non-Emergency       WD    Business Check  P191130842   \n",
       "6             Low      TRU     911/NO  VOICE  P193502037   \n",
       "7          Medium       SD         NARCOTICS  P192453593   \n",
       "8   Non-Emergency       NW    Hot Spot Check  P191200175   \n",
       "9   Non-Emergency       NW  COMMUNITY ENGAGE  P193493337   \n",
       "10  Non-Emergency       NE       Private Tow  P192540016   \n",
       "11  Non-Emergency       SW    Business Check  P190642237   \n",
       "12            Low       CD    LARCENY F/AUTO  P192333694   \n",
       "13         Medium       CD          BURGLARY  P190494317   \n",
       "14  Non-Emergency       ND    Business Check  P190940149   \n",
       "\n",
       "          incidentlocation  ... policedistrict policepost councildistrict  \\\n",
       "0        900 N CAROLINE ST  ...        Eastern      313.0            12.0   \n",
       "1                   BIDDLE  ...            NaN        NaN             NaN   \n",
       "2                      TCE  ...        Eastern      342.0            12.0   \n",
       "3          5100 RICHARD AV  ...   Northeastern      426.0             3.0   \n",
       "4          1700 W NORTH AV  ...        Western      742.0             7.0   \n",
       "5          900 N MONROE ST  ...        Western      722.0             9.0   \n",
       "6            400 W 26TH ST  ...       Northern      511.0            12.0   \n",
       "7   POTEE ST/W PATAPSCO AV  ...       Southern      913.0            10.0   \n",
       "8        3100 SPAULDING AV  ...   Northwestern      614.0             6.0   \n",
       "9     6400 REISTERSTOWN RD  ...   Northwestern      632.0             5.0   \n",
       "10      6100 LOCH RAVEN BL  ...   Northeastern      415.0             4.0   \n",
       "11       4700 FREDERICK AV  ...   Southwestern      822.0             8.0   \n",
       "12         900 N HOWARD ST  ...        Central      142.0            11.0   \n",
       "13           2500 EUTAW PL  ...        Central      133.0             7.0   \n",
       "14            4700 YORK RD  ...       Northern      524.0             4.0   \n",
       "\n",
       "    sheriffdistricts           community_statistical_areas  \\\n",
       "0                 D5                   Oldtown/Middle East   \n",
       "1                NaN                                   NaN   \n",
       "2                 D5                         Clifton-Berea   \n",
       "3                 D4                            Lauraville   \n",
       "4                 D9       Sandtown-Winchester/Harlem Park   \n",
       "5                 D8       Sandtown-Winchester/Harlem Park   \n",
       "6                 D2  Medfield/Hampden/Woodberry/Remington   \n",
       "7                 D7     Brooklyn/Curtis Bay/Hawkins Point   \n",
       "8                 D1             Pimlico/Arlington/Hilltop   \n",
       "9                 D1                        Glen-Fallstaff   \n",
       "10                D3                            Loch Raven   \n",
       "11               D10       Beechfield/Ten Hills/West Hills   \n",
       "12                D8                               Midtown   \n",
       "13                D2             Penn North/Reservoir Hill   \n",
       "14                D2                        Greater Govans   \n",
       "\n",
       "           census_tracts  vrizones  zipcode   latitude  longitude  \n",
       "0       Census Tract 704       NaN  21205.0  40.733733 -74.000338  \n",
       "1                    NaN       NaN      NaN  46.314475  11.048029  \n",
       "2       Census Tract 805  Eastern1  21213.0  39.314977 -76.603728  \n",
       "3   Census Tract 2703.02       NaN  21214.0  39.343306 -76.557530  \n",
       "4      Census Tract 1502   Western  21217.0  39.303932 -76.643138  \n",
       "5      Census Tract 1604       NaN  21217.0  39.296294 -76.649802  \n",
       "6      Census Tract 1207       NaN  21211.0  39.228114 -84.321327  \n",
       "7   Census Tract 2504.01       NaN  21225.0  40.652601 -73.949721  \n",
       "8      Census Tract 2717       NaN  21215.0  39.344459 -76.671235  \n",
       "9   Census Tract 2720.06       NaN  21215.0  42.894399 -74.344867  \n",
       "10  Census Tract 2708.03       NaN  21239.0  39.360723 -76.581748  \n",
       "11  Census Tract 2804.03       NaN  21229.0  48.601070   0.273430  \n",
       "12     Census Tract 1102       NaN  21201.0  38.317271 -88.903120  \n",
       "13     Census Tract 1301       NaN  21217.0  39.313701 -76.633292  \n",
       "14  Census Tract 2710.02       NaN  21212.0  39.346864 -76.606799  \n",
       "\n",
       "[15 rows x 22 columns]"
      ]
     },
     "execution_count": 5,
     "metadata": {},
     "output_type": "execute_result"
    }
   ],
   "source": [
    "df.head(15)"
   ]
  },
  {
   "cell_type": "markdown",
   "id": "260e1dbd",
   "metadata": {},
   "source": [
    "## Take look of Columns"
   ]
  },
  {
   "cell_type": "code",
   "execution_count": 6,
   "id": "822ea0b6",
   "metadata": {},
   "outputs": [
    {
     "data": {
      "text/plain": [
       "Index(['Unnamed: 0', 'objectid', 'recordid', 'callkey', 'calldatetime',\n",
       "       'priority', 'district', 'description', 'callnumber', 'incidentlocation',\n",
       "       'location', 'neighborhood', 'policedistrict', 'policepost',\n",
       "       'councildistrict', 'sheriffdistricts', 'community_statistical_areas',\n",
       "       'census_tracts', 'vrizones', 'zipcode', 'latitude', 'longitude'],\n",
       "      dtype='object')"
      ]
     },
     "execution_count": 6,
     "metadata": {},
     "output_type": "execute_result"
    }
   ],
   "source": [
    "df. columns"
   ]
  },
  {
   "cell_type": "markdown",
   "id": "891063e2",
   "metadata": {},
   "source": [
    "## Basic Questions"
   ]
  },
  {
   "cell_type": "markdown",
   "id": "43b82b14",
   "metadata": {},
   "source": [
    "## What are the top 5 zipcodes for 911 calls?"
   ]
  },
  {
   "cell_type": "code",
   "execution_count": 7,
   "id": "a9cb9649",
   "metadata": {},
   "outputs": [
    {
     "data": {
      "text/plain": [
       "21217.0    11452\n",
       "21223.0     8381\n",
       "21215.0     8076\n",
       "21218.0     7539\n",
       "21202.0     6607\n",
       "Name: zipcode, dtype: int64"
      ]
     },
     "execution_count": 7,
     "metadata": {},
     "output_type": "execute_result"
    }
   ],
   "source": [
    "df['zipcode'].value_counts().head(5)"
   ]
  },
  {
   "cell_type": "markdown",
   "id": "18e8a770",
   "metadata": {},
   "source": [
    "## What are the top 5 Location for 911 calls?"
   ]
  },
  {
   "cell_type": "code",
   "execution_count": 8,
   "id": "453549f2",
   "metadata": {},
   "outputs": [
    {
     "data": {
      "text/plain": [
       "100                   1396\n",
       "3100 W NORTH AV        552\n",
       "3200 GREENMOUNT AV     380\n",
       "5300 YORK RD           350\n",
       "4100 FREDERICK AV      338\n",
       "Name: incidentlocation, dtype: int64"
      ]
     },
     "execution_count": 8,
     "metadata": {},
     "output_type": "execute_result"
    }
   ],
   "source": [
    "df['incidentlocation'].value_counts().head(5)"
   ]
  },
  {
   "cell_type": "markdown",
   "id": "e8792c02",
   "metadata": {},
   "source": [
    "## How many types of discription cases?"
   ]
  },
  {
   "cell_type": "code",
   "execution_count": 9,
   "id": "72aad7fe",
   "metadata": {},
   "outputs": [
    {
     "data": {
      "text/plain": [
       "590"
      ]
     },
     "execution_count": 9,
     "metadata": {},
     "output_type": "execute_result"
    }
   ],
   "source": [
    "df['description'].nunique()"
   ]
  },
  {
   "cell_type": "markdown",
   "id": "1a17cae2",
   "metadata": {},
   "source": [
    "## How many District in State?"
   ]
  },
  {
   "cell_type": "code",
   "execution_count": 10,
   "id": "7718b953",
   "metadata": {},
   "outputs": [
    {
     "data": {
      "text/plain": [
       "12"
      ]
     },
     "execution_count": 10,
     "metadata": {},
     "output_type": "execute_result"
    }
   ],
   "source": [
    "df['district'].nunique()"
   ]
  },
  {
   "cell_type": "markdown",
   "id": "83a2bd6a",
   "metadata": {},
   "source": [
    "## How many Zipcode ?"
   ]
  },
  {
   "cell_type": "code",
   "execution_count": 11,
   "id": "741dc288",
   "metadata": {},
   "outputs": [
    {
     "data": {
      "text/plain": [
       "32"
      ]
     },
     "execution_count": 11,
     "metadata": {},
     "output_type": "execute_result"
    }
   ],
   "source": [
    "df['zipcode'].nunique()"
   ]
  },
  {
   "cell_type": "markdown",
   "id": "e03c9c29",
   "metadata": {},
   "source": [
    "# 2. Exploratory Data Analysis (EDA)"
   ]
  },
  {
   "cell_type": "markdown",
   "id": "651f18d9",
   "metadata": {},
   "source": [
    "## Plot representing a Distribution of cases for the 911 call over the differnt district"
   ]
  },
  {
   "cell_type": "code",
   "execution_count": 12,
   "id": "4b4f8a7e",
   "metadata": {},
   "outputs": [
    {
     "data": {
      "text/plain": [
       "<AxesSubplot:xlabel='district', ylabel='count'>"
      ]
     },
     "execution_count": 12,
     "metadata": {},
     "output_type": "execute_result"
    },
    {
     "data": {
      "image/png": "[encoded data removed]",
      "text/plain": [
       "<Figure size 432x288 with 1 Axes>"
      ]
     },
     "metadata": {
      "needs_background": "light"
     },
     "output_type": "display_data"
    }
   ],
   "source": [
    "sns.countplot(x='district',data=df,palette='viridis')"
   ]
  },
  {
   "cell_type": "markdown",
   "id": "2efdb835",
   "metadata": {},
   "source": [
    "## Plot representing a Distribution of cases for the 911 call over the differnt district"
   ]
  },
  {
   "cell_type": "code",
   "execution_count": 13,
   "id": "00c2fa88",
   "metadata": {},
   "outputs": [
    {
     "data": {
      "text/plain": [
       "<AxesSubplot:xlabel='zipcode', ylabel='count'>"
      ]
     },
     "execution_count": 13,
     "metadata": {},
     "output_type": "execute_result"
    },
    {
     "data": {
      "image/png": "[encoded data removed]",
      "text/plain": [
       "<Figure size 432x288 with 1 Axes>"
      ]
     },
     "metadata": {
      "needs_background": "light"
     },
     "output_type": "display_data"
    }
   ],
   "source": [
    "sns.countplot(x='zipcode',data=df,palette='viridis')"
   ]
  },
  {
   "cell_type": "markdown",
   "id": "ed7759ec",
   "metadata": {},
   "source": [
    "## Convert the column from strings to DateTime objects."
   ]
  },
  {
   "cell_type": "code",
   "execution_count": 14,
   "id": "c0ea38b6",
   "metadata": {},
   "outputs": [
    {
     "data": {
      "text/plain": [
       "str"
      ]
     },
     "execution_count": 14,
     "metadata": {},
     "output_type": "execute_result"
    }
   ],
   "source": [
    "type(df['calldatetime'].iloc[0])"
   ]
  },
  {
   "cell_type": "code",
   "execution_count": 15,
   "id": "01c2c2cd",
   "metadata": {},
   "outputs": [],
   "source": [
    "df['calldatetime'] = pd.to_datetime(df['calldatetime'])"
   ]
  },
  {
   "cell_type": "code",
   "execution_count": 16,
   "id": "03f6b000",
   "metadata": {},
   "outputs": [
    {
     "data": {
      "text/plain": [
       "pandas._libs.tslibs.timestamps.Timestamp"
      ]
     },
     "execution_count": 16,
     "metadata": {},
     "output_type": "execute_result"
    }
   ],
   "source": [
    "type(df['calldatetime'].iloc[0])"
   ]
  },
  {
   "cell_type": "markdown",
   "id": "0b9c94d5",
   "metadata": {},
   "source": [
    "## Split callDateTime column into year, month, dayofmonth, dayofweek, dayofyear, hour, minutes, weekyear"
   ]
  },
  {
   "cell_type": "code",
   "execution_count": 17,
   "id": "2280dc4d",
   "metadata": {},
   "outputs": [
    {
     "name": "stderr",
     "output_type": "stream",
     "text": [
      "<ipython-input-17-2b9e9fffe09d>:8: FutureWarning: weekofyear and week have been deprecated, please use DatetimeIndex.isocalendar().week instead, which returns a Series.  To exactly reproduce the behavior of week and weekofyear and return an Index, you may call pd.Int64Index(idx.isocalendar().week)\n",
      "  df['weekofyear'] = df['calldatetime'].apply(lambda time: time.weekofyear)\n"
     ]
    }
   ],
   "source": [
    "df['year'] = df['calldatetime'].apply(lambda time: time.year)\n",
    "df['month'] = df['calldatetime'].apply(lambda time: time.month)\n",
    "df['dayofmonth'] = df['calldatetime'].apply(lambda time: time.day)\n",
    "df['dayofweek'] = df['calldatetime'].apply(lambda time: time.dayofweek)\n",
    "df['dayofyear'] = df['calldatetime'].apply(lambda time: time.dayofyear)\n",
    "df['hour'] = df['calldatetime'].apply(lambda time: time.hour)\n",
    "df['minute'] = df['calldatetime'].apply(lambda time: time.minute)\n",
    "df['weekofyear'] = df['calldatetime'].apply(lambda time: time.weekofyear)"
   ]
  },
  {
   "cell_type": "markdown",
   "id": "dd4c1bb5",
   "metadata": {},
   "source": [
    "## Crime Rate Analysis"
   ]
  },
  {
   "cell_type": "markdown",
   "id": "c16e5171",
   "metadata": {},
   "source": [
    "## Monthly count of 911 calls"
   ]
  },
  {
   "cell_type": "code",
   "execution_count": 18,
   "id": "594da657",
   "metadata": {},
   "outputs": [
    {
     "data": {
      "image/png": "[encoded data removed]",
      "text/plain": [
       "<Figure size 432x288 with 1 Axes>"
      ]
     },
     "metadata": {
      "needs_background": "light"
     },
     "output_type": "display_data"
    }
   ],
   "source": [
    "sns.countplot(x='month',data=df,palette='viridis')\n",
    "plt.title('Month Wise Crime Rate')\n",
    "plt.tight_layout()"
   ]
  },
  {
   "cell_type": "markdown",
   "id": "d57a42db",
   "metadata": {},
   "source": [
    "## Day wise count of 911 calls"
   ]
  },
  {
   "cell_type": "code",
   "execution_count": 19,
   "id": "ec578d7b",
   "metadata": {},
   "outputs": [
    {
     "data": {
      "image/png": "[encoded data removed]",
      "text/plain": [
       "<Figure size 432x288 with 1 Axes>"
      ]
     },
     "metadata": {
      "needs_background": "light"
     },
     "output_type": "display_data"
    }
   ],
   "source": [
    "sns.countplot(x='dayofweek',data=df,palette='viridis')\n",
    "plt.title('Week Wise Crime Rate')\n",
    "plt.tight_layout()"
   ]
  },
  {
   "cell_type": "markdown",
   "id": "da29c2b9",
   "metadata": {},
   "source": [
    "## Hourly  count of 911 calls"
   ]
  },
  {
   "cell_type": "code",
   "execution_count": 20,
   "id": "496ac463",
   "metadata": {},
   "outputs": [
    {
     "data": {
      "image/png": "[encoded data removed]",
      "text/plain": [
       "<Figure size 432x288 with 1 Axes>"
      ]
     },
     "metadata": {
      "needs_background": "light"
     },
     "output_type": "display_data"
    }
   ],
   "source": [
    "sns.countplot(x='hour',data=df,palette='viridis')\n",
    "plt.title('Hour wise Crime Rate')\n",
    "plt.tight_layout()"
   ]
  },
  {
   "cell_type": "code",
   "execution_count": null,
   "id": "af759ea4",
   "metadata": {},
   "outputs": [],
   "source": []
  },
  {
   "cell_type": "markdown",
   "id": "1a3feeb8",
   "metadata": {},
   "source": [
    "## Count of 911 calls for Day of week categorize  by priority"
   ]
  },
  {
   "cell_type": "code",
   "execution_count": 21,
   "id": "1f73cf80",
   "metadata": {},
   "outputs": [
    {
     "data": {
      "text/plain": [
       "<AxesSubplot:xlabel='dayofweek', ylabel='count'>"
      ]
     },
     "execution_count": 21,
     "metadata": {},
     "output_type": "execute_result"
    },
    {
     "data": {
      "image/png": "[encoded data removed]",
      "text/plain": [
       "<Figure size 432x288 with 1 Axes>"
      ]
     },
     "metadata": {
      "needs_background": "light"
     },
     "output_type": "display_data"
    }
   ],
   "source": [
    "sns.countplot(x='dayofweek',data=df,hue='priority',palette='viridis')\n",
    "\n",
    "# To relocate the legend\n",
    "#plt.legend(bbox_to_anchor=(1.05, 1), loc=2, borderaxespad=0.)"
   ]
  },
  {
   "cell_type": "markdown",
   "id": "a5e39a46",
   "metadata": {},
   "source": [
    "## Count of 911 calls for Day of week categorize  by priority"
   ]
  },
  {
   "cell_type": "code",
   "execution_count": 22,
   "id": "105323a2",
   "metadata": {},
   "outputs": [
    {
     "data": {
      "text/plain": [
       "<matplotlib.legend.Legend at 0x158adf59430>"
      ]
     },
     "execution_count": 22,
     "metadata": {},
     "output_type": "execute_result"
    },
    {
     "data": {
      "image/png": "[encoded data removed]",
      "text/plain": [
       "<Figure size 432x288 with 1 Axes>"
      ]
     },
     "metadata": {
      "needs_background": "light"
     },
     "output_type": "display_data"
    }
   ],
   "source": [
    "sns.countplot(x='month',data=df,hue='priority',palette='viridis')\n",
    "\n",
    "# To relocate the legend\n",
    "plt.legend(bbox_to_anchor=(1.05, 1), loc=2, borderaxespad=0.)"
   ]
  },
  {
   "cell_type": "markdown",
   "id": "2da14b6c",
   "metadata": {},
   "source": []
  },
  {
   "cell_type": "code",
   "execution_count": 23,
   "id": "e2816881",
   "metadata": {},
   "outputs": [],
   "source": [
    "byMonth = df.groupby('month').count()\n"
   ]
  },
  {
   "cell_type": "markdown",
   "id": "b4ce6d36",
   "metadata": {},
   "source": [
    "## Anually incidencelocation grouped by month for 911 calls"
   ]
  },
  {
   "cell_type": "code",
   "execution_count": 24,
   "id": "1c222c3d",
   "metadata": {},
   "outputs": [
    {
     "data": {
      "text/plain": [
       "<AxesSubplot:xlabel='month'>"
      ]
     },
     "execution_count": 24,
     "metadata": {},
     "output_type": "execute_result"
    },
    {
     "data": {
      "image/png": "[encoded data removed]",
      "text/plain": [
       "<Figure size 432x288 with 1 Axes>"
      ]
     },
     "metadata": {
      "needs_background": "light"
     },
     "output_type": "display_data"
    }
   ],
   "source": [
    "\n",
    "byMonth['incidentlocation'].plot()"
   ]
  },
  {
   "cell_type": "markdown",
   "id": "45533c04",
   "metadata": {},
   "source": [
    "## reset the index to a column"
   ]
  },
  {
   "cell_type": "code",
   "execution_count": 25,
   "id": "447fc3b9",
   "metadata": {},
   "outputs": [
    {
     "data": {
      "text/plain": [
       "<seaborn.axisgrid.FacetGrid at 0x158b188e880>"
      ]
     },
     "execution_count": 25,
     "metadata": {},
     "output_type": "execute_result"
    },
    {
     "data": {
      "image/png": "[encoded data removed]",
      "text/plain": [
       "<Figure size 360x360 with 1 Axes>"
      ]
     },
     "metadata": {
      "needs_background": "light"
     },
     "output_type": "display_data"
    }
   ],
   "source": [
    "sns.lmplot(x='month',y='location',data=byMonth.reset_index())"
   ]
  },
  {
   "cell_type": "code",
   "execution_count": 26,
   "id": "b4ab18f5",
   "metadata": {},
   "outputs": [
    {
     "data": {
      "image/png": "[encoded data removed]",
      "text/plain": [
       "<Figure size 432x288 with 1 Axes>"
      ]
     },
     "metadata": {
      "needs_background": "light"
     },
     "output_type": "display_data"
    }
   ],
   "source": [
    "df.groupby('dayofmonth').count()['location'].plot()\n",
    "plt.tight_layout()"
   ]
  },
  {
   "cell_type": "markdown",
   "id": "181d0286",
   "metadata": {},
   "source": [
    "## Priority wise distribution of 911 calls over the day of months"
   ]
  },
  {
   "cell_type": "markdown",
   "id": "cc4692fa",
   "metadata": {},
   "source": [
    "## High priority"
   ]
  },
  {
   "cell_type": "code",
   "execution_count": 27,
   "id": "6c50252d",
   "metadata": {},
   "outputs": [
    {
     "data": {
      "image/png": "[encoded data removed]",
      "text/plain": [
       "<Figure size 432x288 with 1 Axes>"
      ]
     },
     "metadata": {
      "needs_background": "light"
     },
     "output_type": "display_data"
    }
   ],
   "source": [
    "df[df['priority']=='High'].groupby('dayofmonth').count()['location'].plot()\n",
    "plt.title('HIGH')\n",
    "plt.tight_layout()"
   ]
  },
  {
   "cell_type": "markdown",
   "id": "8e32fa22",
   "metadata": {},
   "source": [
    "## Low Priority"
   ]
  },
  {
   "cell_type": "code",
   "execution_count": 28,
   "id": "530cc0e3",
   "metadata": {},
   "outputs": [
    {
     "data": {
      "image/png": "[encoded data removed]",
      "text/plain": [
       "<Figure size 432x288 with 1 Axes>"
      ]
     },
     "metadata": {
      "needs_background": "light"
     },
     "output_type": "display_data"
    }
   ],
   "source": [
    "df[df['priority']=='Low'].groupby('dayofmonth').count()['location'].plot()\n",
    "plt.title('LOW priority calls')\n",
    "plt.tight_layout()"
   ]
  },
  {
   "cell_type": "markdown",
   "id": "c37c3527",
   "metadata": {},
   "source": [
    "## Medium Priority"
   ]
  },
  {
   "cell_type": "code",
   "execution_count": 29,
   "id": "b8b5310d",
   "metadata": {},
   "outputs": [
    {
     "data": {
      "image/png": "[encoded data removed]",
      "text/plain": [
       "<Figure size 432x288 with 1 Axes>"
      ]
     },
     "metadata": {
      "needs_background": "light"
     },
     "output_type": "display_data"
    }
   ],
   "source": [
    "df[df['priority']=='Medium'].groupby('dayofmonth').count()['location'].plot()\n",
    "plt.title('Medium priority call')\n",
    "plt.tight_layout()"
   ]
  },
  {
   "cell_type": "markdown",
   "id": "4b83e668",
   "metadata": {},
   "source": [
    "## Non Emergancy"
   ]
  },
  {
   "cell_type": "code",
   "execution_count": 30,
   "id": "6de01b55",
   "metadata": {},
   "outputs": [
    {
     "data": {
      "image/png": "[encoded data removed]",
      "text/plain": [
       "<Figure size 432x288 with 1 Axes>"
      ]
     },
     "metadata": {
      "needs_background": "light"
     },
     "output_type": "display_data"
    }
   ],
   "source": [
    "df[df['priority']=='Non-Emergency'].groupby('dayofmonth').count()['location'].plot()\n",
    "plt.title('Non Emergancy calls')\n",
    "plt.tight_layout()"
   ]
  },
  {
   "cell_type": "markdown",
   "id": "6c40d1d2",
   "metadata": {},
   "source": [
    "## Emergancy"
   ]
  },
  {
   "cell_type": "code",
   "execution_count": 31,
   "id": "a34030f9",
   "metadata": {},
   "outputs": [
    {
     "data": {
      "image/png": "[encoded data removed]",
      "text/plain": [
       "<Figure size 432x288 with 1 Axes>"
      ]
     },
     "metadata": {
      "needs_background": "light"
     },
     "output_type": "display_data"
    }
   ],
   "source": [
    "df[df['priority']=='Emergency'].groupby('district').count()['location'].plot()\n",
    "plt.title('Emergancy calls')\n",
    "plt.tight_layout()"
   ]
  },
  {
   "cell_type": "markdown",
   "id": "00e98404",
   "metadata": {},
   "source": [
    "## need to restructure the dataframe so that the columns become the Hours and the Index becomes the Day of the Week"
   ]
  },
  {
   "cell_type": "code",
   "execution_count": 32,
   "id": "b0c17f6e",
   "metadata": {},
   "outputs": [
    {
     "data": {
      "text/html": [
       "<div>\n",
       "<style scoped>\n",
       "    .dataframe tbody tr th:only-of-type {\n",
       "        vertical-align: middle;\n",
       "    }\n",
       "\n",
       "    .dataframe tbody tr th {\n",
       "        vertical-align: top;\n",
       "    }\n",
       "\n",
       "    .dataframe thead th {\n",
       "        text-align: right;\n",
       "    }\n",
       "</style>\n",
       "<table border=\"1\" class=\"dataframe\">\n",
       "  <thead>\n",
       "    <tr style=\"text-align: right;\">\n",
       "      <th>hour</th>\n",
       "      <th>0</th>\n",
       "      <th>1</th>\n",
       "      <th>2</th>\n",
       "      <th>3</th>\n",
       "      <th>4</th>\n",
       "      <th>5</th>\n",
       "      <th>6</th>\n",
       "      <th>7</th>\n",
       "      <th>8</th>\n",
       "      <th>9</th>\n",
       "      <th>...</th>\n",
       "      <th>14</th>\n",
       "      <th>15</th>\n",
       "      <th>16</th>\n",
       "      <th>17</th>\n",
       "      <th>18</th>\n",
       "      <th>19</th>\n",
       "      <th>20</th>\n",
       "      <th>21</th>\n",
       "      <th>22</th>\n",
       "      <th>23</th>\n",
       "    </tr>\n",
       "    <tr>\n",
       "      <th>dayofweek</th>\n",
       "      <th></th>\n",
       "      <th></th>\n",
       "      <th></th>\n",
       "      <th></th>\n",
       "      <th></th>\n",
       "      <th></th>\n",
       "      <th></th>\n",
       "      <th></th>\n",
       "      <th></th>\n",
       "      <th></th>\n",
       "      <th></th>\n",
       "      <th></th>\n",
       "      <th></th>\n",
       "      <th></th>\n",
       "      <th></th>\n",
       "      <th></th>\n",
       "      <th></th>\n",
       "      <th></th>\n",
       "      <th></th>\n",
       "      <th></th>\n",
       "      <th></th>\n",
       "    </tr>\n",
       "  </thead>\n",
       "  <tbody>\n",
       "    <tr>\n",
       "      <th>0</th>\n",
       "      <td>638</td>\n",
       "      <td>488</td>\n",
       "      <td>426</td>\n",
       "      <td>337</td>\n",
       "      <td>289</td>\n",
       "      <td>228</td>\n",
       "      <td>181</td>\n",
       "      <td>416</td>\n",
       "      <td>524</td>\n",
       "      <td>653</td>\n",
       "      <td>...</td>\n",
       "      <td>597</td>\n",
       "      <td>759</td>\n",
       "      <td>921</td>\n",
       "      <td>940</td>\n",
       "      <td>827</td>\n",
       "      <td>758</td>\n",
       "      <td>678</td>\n",
       "      <td>593</td>\n",
       "      <td>481</td>\n",
       "      <td>647</td>\n",
       "    </tr>\n",
       "    <tr>\n",
       "      <th>1</th>\n",
       "      <td>638</td>\n",
       "      <td>544</td>\n",
       "      <td>432</td>\n",
       "      <td>284</td>\n",
       "      <td>260</td>\n",
       "      <td>259</td>\n",
       "      <td>197</td>\n",
       "      <td>366</td>\n",
       "      <td>585</td>\n",
       "      <td>698</td>\n",
       "      <td>...</td>\n",
       "      <td>619</td>\n",
       "      <td>778</td>\n",
       "      <td>963</td>\n",
       "      <td>1012</td>\n",
       "      <td>940</td>\n",
       "      <td>904</td>\n",
       "      <td>752</td>\n",
       "      <td>662</td>\n",
       "      <td>486</td>\n",
       "      <td>650</td>\n",
       "    </tr>\n",
       "    <tr>\n",
       "      <th>2</th>\n",
       "      <td>675</td>\n",
       "      <td>527</td>\n",
       "      <td>444</td>\n",
       "      <td>342</td>\n",
       "      <td>251</td>\n",
       "      <td>199</td>\n",
       "      <td>214</td>\n",
       "      <td>412</td>\n",
       "      <td>561</td>\n",
       "      <td>661</td>\n",
       "      <td>...</td>\n",
       "      <td>625</td>\n",
       "      <td>723</td>\n",
       "      <td>944</td>\n",
       "      <td>930</td>\n",
       "      <td>868</td>\n",
       "      <td>855</td>\n",
       "      <td>781</td>\n",
       "      <td>667</td>\n",
       "      <td>510</td>\n",
       "      <td>626</td>\n",
       "    </tr>\n",
       "    <tr>\n",
       "      <th>3</th>\n",
       "      <td>679</td>\n",
       "      <td>547</td>\n",
       "      <td>422</td>\n",
       "      <td>302</td>\n",
       "      <td>242</td>\n",
       "      <td>210</td>\n",
       "      <td>213</td>\n",
       "      <td>374</td>\n",
       "      <td>569</td>\n",
       "      <td>697</td>\n",
       "      <td>...</td>\n",
       "      <td>632</td>\n",
       "      <td>709</td>\n",
       "      <td>926</td>\n",
       "      <td>920</td>\n",
       "      <td>876</td>\n",
       "      <td>829</td>\n",
       "      <td>803</td>\n",
       "      <td>599</td>\n",
       "      <td>510</td>\n",
       "      <td>579</td>\n",
       "    </tr>\n",
       "    <tr>\n",
       "      <th>4</th>\n",
       "      <td>665</td>\n",
       "      <td>539</td>\n",
       "      <td>435</td>\n",
       "      <td>345</td>\n",
       "      <td>258</td>\n",
       "      <td>256</td>\n",
       "      <td>205</td>\n",
       "      <td>387</td>\n",
       "      <td>619</td>\n",
       "      <td>709</td>\n",
       "      <td>...</td>\n",
       "      <td>574</td>\n",
       "      <td>745</td>\n",
       "      <td>880</td>\n",
       "      <td>854</td>\n",
       "      <td>818</td>\n",
       "      <td>862</td>\n",
       "      <td>765</td>\n",
       "      <td>707</td>\n",
       "      <td>558</td>\n",
       "      <td>684</td>\n",
       "    </tr>\n",
       "  </tbody>\n",
       "</table>\n",
       "<p>5 rows × 24 columns</p>\n",
       "</div>"
      ],
      "text/plain": [
       "hour        0    1    2    3    4    5    6    7    8    9   ...   14   15  \\\n",
       "dayofweek                                                    ...             \n",
       "0          638  488  426  337  289  228  181  416  524  653  ...  597  759   \n",
       "1          638  544  432  284  260  259  197  366  585  698  ...  619  778   \n",
       "2          675  527  444  342  251  199  214  412  561  661  ...  625  723   \n",
       "3          679  547  422  302  242  210  213  374  569  697  ...  632  709   \n",
       "4          665  539  435  345  258  256  205  387  619  709  ...  574  745   \n",
       "\n",
       "hour        16    17   18   19   20   21   22   23  \n",
       "dayofweek                                           \n",
       "0          921   940  827  758  678  593  481  647  \n",
       "1          963  1012  940  904  752  662  486  650  \n",
       "2          944   930  868  855  781  667  510  626  \n",
       "3          926   920  876  829  803  599  510  579  \n",
       "4          880   854  818  862  765  707  558  684  \n",
       "\n",
       "[5 rows x 24 columns]"
      ]
     },
     "execution_count": 32,
     "metadata": {},
     "output_type": "execute_result"
    }
   ],
   "source": [
    "dayHour = df.groupby(by=['dayofweek','hour']).count()['location'].unstack()\n",
    "dayHour.head()"
   ]
  },
  {
   "cell_type": "markdown",
   "id": "e43f49a6",
   "metadata": {},
   "source": [
    "## HeatMap using this new DataFrame"
   ]
  },
  {
   "cell_type": "code",
   "execution_count": 33,
   "id": "6773d922",
   "metadata": {},
   "outputs": [
    {
     "data": {
      "text/plain": [
       "<AxesSubplot:xlabel='hour', ylabel='dayofweek'>"
      ]
     },
     "execution_count": 33,
     "metadata": {},
     "output_type": "execute_result"
    },
    {
     "data": {
      "image/png": "[encoded data removed]",
      "text/plain": [
       "<Figure size 864x432 with 2 Axes>"
      ]
     },
     "metadata": {
      "needs_background": "light"
     },
     "output_type": "display_data"
    }
   ],
   "source": [
    "plt.figure(figsize=(12,6))\n",
    "sns.heatmap(dayHour,cmap='viridis')"
   ]
  },
  {
   "cell_type": "markdown",
   "id": "d5570184",
   "metadata": {},
   "source": [
    "# 3. Data Pre-Processing"
   ]
  },
  {
   "cell_type": "markdown",
   "id": "ec16bb65",
   "metadata": {},
   "source": [
    "## Checking for null value"
   ]
  },
  {
   "cell_type": "code",
   "execution_count": 34,
   "id": "17fddfaa",
   "metadata": {},
   "outputs": [
    {
     "data": {
      "text/plain": [
       "Unnamed: 0                         0\n",
       "objectid                           0\n",
       "recordid                           0\n",
       "callkey                            0\n",
       "calldatetime                       0\n",
       "priority                           0\n",
       "district                           0\n",
       "description                        0\n",
       "callnumber                         0\n",
       "incidentlocation                   0\n",
       "location                           0\n",
       "neighborhood                    1677\n",
       "policedistrict                  1676\n",
       "policepost                      1673\n",
       "councildistrict                 1669\n",
       "sheriffdistricts                1671\n",
       "community_statistical_areas     1705\n",
       "census_tracts                   1676\n",
       "vrizones                       83073\n",
       "zipcode                         1701\n",
       "latitude                           0\n",
       "longitude                          0\n",
       "year                               0\n",
       "month                              0\n",
       "dayofmonth                         0\n",
       "dayofweek                          0\n",
       "dayofyear                          0\n",
       "hour                               0\n",
       "minute                             0\n",
       "weekofyear                         0\n",
       "dtype: int64"
      ]
     },
     "execution_count": 34,
     "metadata": {},
     "output_type": "execute_result"
    }
   ],
   "source": [
    "df.isna().sum()"
   ]
  },
  {
   "cell_type": "code",
   "execution_count": 35,
   "id": "ceed3602",
   "metadata": {},
   "outputs": [],
   "source": [
    "df= df.dropna()"
   ]
  },
  {
   "cell_type": "code",
   "execution_count": 36,
   "id": "72a87ed9",
   "metadata": {},
   "outputs": [
    {
     "data": {
      "text/plain": [
       "30"
      ]
     },
     "execution_count": 36,
     "metadata": {},
     "output_type": "execute_result"
    }
   ],
   "source": [
    "df.isna().sum().count()"
   ]
  },
  {
   "cell_type": "markdown",
   "id": "ab50f4be",
   "metadata": {},
   "source": [
    "## Dropped the  unnesessary column"
   ]
  },
  {
   "cell_type": "code",
   "execution_count": 37,
   "id": "78ee424b",
   "metadata": {},
   "outputs": [],
   "source": [
    "#df= df.drop(['recordid', 'year','policepost', 'councildistrict', 'sheriffdistricts', 'community_statistical_areas', 'census_tracts','vrizones'],axis=1)"
   ]
  },
  {
   "cell_type": "code",
   "execution_count": 38,
   "id": "8a9e61a5",
   "metadata": {},
   "outputs": [],
   "source": [
    "from sklearn.preprocessing import LabelEncoder\n",
    "le=LabelEncoder()\n",
    "df['priority']=le.fit_transform(df['priority'])\n",
    "df['district']=le.fit_transform(df['district'])\n",
    "df['policeDistrict']=le.fit_transform(df['policedistrict'])"
   ]
  },
  {
   "cell_type": "code",
   "execution_count": 39,
   "id": "5d5f9551",
   "metadata": {},
   "outputs": [],
   "source": [
    "df = df.loc[:, ~df.columns.str.contains('^Unnamed')]"
   ]
  },
  {
   "cell_type": "markdown",
   "id": "ec333434",
   "metadata": {},
   "source": [
    "# 4. Model Building"
   ]
  },
  {
   "cell_type": "markdown",
   "id": "3d709a37",
   "metadata": {},
   "source": [
    "## find the corelation beetween coloumns"
   ]
  },
  {
   "cell_type": "code",
   "execution_count": 40,
   "id": "7dbf61e0",
   "metadata": {},
   "outputs": [
    {
     "data": {
      "text/html": [
       "<div>\n",
       "<style scoped>\n",
       "    .dataframe tbody tr th:only-of-type {\n",
       "        vertical-align: middle;\n",
       "    }\n",
       "\n",
       "    .dataframe tbody tr th {\n",
       "        vertical-align: top;\n",
       "    }\n",
       "\n",
       "    .dataframe thead th {\n",
       "        text-align: right;\n",
       "    }\n",
       "</style>\n",
       "<table border=\"1\" class=\"dataframe\">\n",
       "  <thead>\n",
       "    <tr style=\"text-align: right;\">\n",
       "      <th></th>\n",
       "      <th>objectid</th>\n",
       "      <th>recordid</th>\n",
       "      <th>priority</th>\n",
       "      <th>district</th>\n",
       "      <th>policepost</th>\n",
       "      <th>councildistrict</th>\n",
       "      <th>zipcode</th>\n",
       "      <th>latitude</th>\n",
       "      <th>longitude</th>\n",
       "      <th>year</th>\n",
       "      <th>month</th>\n",
       "      <th>dayofmonth</th>\n",
       "      <th>dayofweek</th>\n",
       "      <th>dayofyear</th>\n",
       "      <th>hour</th>\n",
       "      <th>minute</th>\n",
       "      <th>weekofyear</th>\n",
       "      <th>policeDistrict</th>\n",
       "    </tr>\n",
       "  </thead>\n",
       "  <tbody>\n",
       "    <tr>\n",
       "      <th>objectid</th>\n",
       "      <td>1.000000</td>\n",
       "      <td>0.191970</td>\n",
       "      <td>0.645363</td>\n",
       "      <td>0.089986</td>\n",
       "      <td>0.036561</td>\n",
       "      <td>-0.087249</td>\n",
       "      <td>0.012261</td>\n",
       "      <td>0.035348</td>\n",
       "      <td>0.067327</td>\n",
       "      <td>NaN</td>\n",
       "      <td>0.269241</td>\n",
       "      <td>0.013834</td>\n",
       "      <td>0.015268</td>\n",
       "      <td>0.269540</td>\n",
       "      <td>-0.055383</td>\n",
       "      <td>0.000179</td>\n",
       "      <td>0.259066</td>\n",
       "      <td>0.106867</td>\n",
       "    </tr>\n",
       "    <tr>\n",
       "      <th>recordid</th>\n",
       "      <td>0.191970</td>\n",
       "      <td>1.000000</td>\n",
       "      <td>0.047183</td>\n",
       "      <td>0.054139</td>\n",
       "      <td>0.061609</td>\n",
       "      <td>-0.028630</td>\n",
       "      <td>0.042858</td>\n",
       "      <td>0.064160</td>\n",
       "      <td>0.063822</td>\n",
       "      <td>NaN</td>\n",
       "      <td>0.614511</td>\n",
       "      <td>0.065975</td>\n",
       "      <td>0.011424</td>\n",
       "      <td>0.614306</td>\n",
       "      <td>-0.004317</td>\n",
       "      <td>-0.001996</td>\n",
       "      <td>0.603616</td>\n",
       "      <td>0.062781</td>\n",
       "    </tr>\n",
       "    <tr>\n",
       "      <th>priority</th>\n",
       "      <td>0.645363</td>\n",
       "      <td>0.047183</td>\n",
       "      <td>1.000000</td>\n",
       "      <td>0.071463</td>\n",
       "      <td>0.023569</td>\n",
       "      <td>-0.093853</td>\n",
       "      <td>0.001726</td>\n",
       "      <td>0.003761</td>\n",
       "      <td>0.041114</td>\n",
       "      <td>NaN</td>\n",
       "      <td>0.022643</td>\n",
       "      <td>0.013906</td>\n",
       "      <td>-0.011178</td>\n",
       "      <td>0.023586</td>\n",
       "      <td>-0.054516</td>\n",
       "      <td>-0.006775</td>\n",
       "      <td>0.022509</td>\n",
       "      <td>0.092212</td>\n",
       "    </tr>\n",
       "    <tr>\n",
       "      <th>district</th>\n",
       "      <td>0.089986</td>\n",
       "      <td>0.054139</td>\n",
       "      <td>0.071463</td>\n",
       "      <td>1.000000</td>\n",
       "      <td>0.724923</td>\n",
       "      <td>-0.491996</td>\n",
       "      <td>0.513639</td>\n",
       "      <td>0.257029</td>\n",
       "      <td>0.321244</td>\n",
       "      <td>NaN</td>\n",
       "      <td>0.013463</td>\n",
       "      <td>-0.000268</td>\n",
       "      <td>-0.005754</td>\n",
       "      <td>0.012997</td>\n",
       "      <td>0.004686</td>\n",
       "      <td>-0.017164</td>\n",
       "      <td>0.015470</td>\n",
       "      <td>0.910190</td>\n",
       "    </tr>\n",
       "    <tr>\n",
       "      <th>policepost</th>\n",
       "      <td>0.036561</td>\n",
       "      <td>0.061609</td>\n",
       "      <td>0.023569</td>\n",
       "      <td>0.724923</td>\n",
       "      <td>1.000000</td>\n",
       "      <td>-0.449914</td>\n",
       "      <td>0.736427</td>\n",
       "      <td>0.367192</td>\n",
       "      <td>0.418125</td>\n",
       "      <td>NaN</td>\n",
       "      <td>0.038357</td>\n",
       "      <td>-0.009055</td>\n",
       "      <td>-0.014246</td>\n",
       "      <td>0.037174</td>\n",
       "      <td>0.011001</td>\n",
       "      <td>-0.009880</td>\n",
       "      <td>0.039451</td>\n",
       "      <td>0.847195</td>\n",
       "    </tr>\n",
       "    <tr>\n",
       "      <th>councildistrict</th>\n",
       "      <td>-0.087249</td>\n",
       "      <td>-0.028630</td>\n",
       "      <td>-0.093853</td>\n",
       "      <td>-0.491996</td>\n",
       "      <td>-0.449914</td>\n",
       "      <td>1.000000</td>\n",
       "      <td>-0.140769</td>\n",
       "      <td>0.044290</td>\n",
       "      <td>-0.032190</td>\n",
       "      <td>NaN</td>\n",
       "      <td>0.015146</td>\n",
       "      <td>0.003020</td>\n",
       "      <td>-0.006220</td>\n",
       "      <td>0.015656</td>\n",
       "      <td>0.009162</td>\n",
       "      <td>0.009957</td>\n",
       "      <td>0.014533</td>\n",
       "      <td>-0.474751</td>\n",
       "    </tr>\n",
       "    <tr>\n",
       "      <th>zipcode</th>\n",
       "      <td>0.012261</td>\n",
       "      <td>0.042858</td>\n",
       "      <td>0.001726</td>\n",
       "      <td>0.513639</td>\n",
       "      <td>0.736427</td>\n",
       "      <td>-0.140769</td>\n",
       "      <td>1.000000</td>\n",
       "      <td>0.245474</td>\n",
       "      <td>0.326065</td>\n",
       "      <td>NaN</td>\n",
       "      <td>0.027937</td>\n",
       "      <td>-0.002305</td>\n",
       "      <td>-0.017932</td>\n",
       "      <td>0.027429</td>\n",
       "      <td>0.020765</td>\n",
       "      <td>-0.010590</td>\n",
       "      <td>0.028324</td>\n",
       "      <td>0.587950</td>\n",
       "    </tr>\n",
       "    <tr>\n",
       "      <th>latitude</th>\n",
       "      <td>0.035348</td>\n",
       "      <td>0.064160</td>\n",
       "      <td>0.003761</td>\n",
       "      <td>0.257029</td>\n",
       "      <td>0.367192</td>\n",
       "      <td>0.044290</td>\n",
       "      <td>0.245474</td>\n",
       "      <td>1.000000</td>\n",
       "      <td>0.830785</td>\n",
       "      <td>NaN</td>\n",
       "      <td>0.078266</td>\n",
       "      <td>0.013986</td>\n",
       "      <td>-0.012173</td>\n",
       "      <td>0.079119</td>\n",
       "      <td>-0.020269</td>\n",
       "      <td>-0.003887</td>\n",
       "      <td>0.077256</td>\n",
       "      <td>0.287243</td>\n",
       "    </tr>\n",
       "    <tr>\n",
       "      <th>longitude</th>\n",
       "      <td>0.067327</td>\n",
       "      <td>0.063822</td>\n",
       "      <td>0.041114</td>\n",
       "      <td>0.321244</td>\n",
       "      <td>0.418125</td>\n",
       "      <td>-0.032190</td>\n",
       "      <td>0.326065</td>\n",
       "      <td>0.830785</td>\n",
       "      <td>1.000000</td>\n",
       "      <td>NaN</td>\n",
       "      <td>0.072978</td>\n",
       "      <td>0.014593</td>\n",
       "      <td>-0.009044</td>\n",
       "      <td>0.073908</td>\n",
       "      <td>-0.024195</td>\n",
       "      <td>-0.006994</td>\n",
       "      <td>0.074458</td>\n",
       "      <td>0.357931</td>\n",
       "    </tr>\n",
       "    <tr>\n",
       "      <th>year</th>\n",
       "      <td>NaN</td>\n",
       "      <td>NaN</td>\n",
       "      <td>NaN</td>\n",
       "      <td>NaN</td>\n",
       "      <td>NaN</td>\n",
       "      <td>NaN</td>\n",
       "      <td>NaN</td>\n",
       "      <td>NaN</td>\n",
       "      <td>NaN</td>\n",
       "      <td>NaN</td>\n",
       "      <td>NaN</td>\n",
       "      <td>NaN</td>\n",
       "      <td>NaN</td>\n",
       "      <td>NaN</td>\n",
       "      <td>NaN</td>\n",
       "      <td>NaN</td>\n",
       "      <td>NaN</td>\n",
       "      <td>NaN</td>\n",
       "    </tr>\n",
       "    <tr>\n",
       "      <th>month</th>\n",
       "      <td>0.269241</td>\n",
       "      <td>0.614511</td>\n",
       "      <td>0.022643</td>\n",
       "      <td>0.013463</td>\n",
       "      <td>0.038357</td>\n",
       "      <td>0.015146</td>\n",
       "      <td>0.027937</td>\n",
       "      <td>0.078266</td>\n",
       "      <td>0.072978</td>\n",
       "      <td>NaN</td>\n",
       "      <td>1.000000</td>\n",
       "      <td>-0.010150</td>\n",
       "      <td>-0.002603</td>\n",
       "      <td>0.996244</td>\n",
       "      <td>-0.002042</td>\n",
       "      <td>-0.005342</td>\n",
       "      <td>0.965002</td>\n",
       "      <td>0.022271</td>\n",
       "    </tr>\n",
       "    <tr>\n",
       "      <th>dayofmonth</th>\n",
       "      <td>0.013834</td>\n",
       "      <td>0.065975</td>\n",
       "      <td>0.013906</td>\n",
       "      <td>-0.000268</td>\n",
       "      <td>-0.009055</td>\n",
       "      <td>0.003020</td>\n",
       "      <td>-0.002305</td>\n",
       "      <td>0.013986</td>\n",
       "      <td>0.014593</td>\n",
       "      <td>NaN</td>\n",
       "      <td>-0.010150</td>\n",
       "      <td>1.000000</td>\n",
       "      <td>0.013792</td>\n",
       "      <td>0.076220</td>\n",
       "      <td>0.017431</td>\n",
       "      <td>-0.000708</td>\n",
       "      <td>0.043472</td>\n",
       "      <td>-0.002580</td>\n",
       "    </tr>\n",
       "    <tr>\n",
       "      <th>dayofweek</th>\n",
       "      <td>0.015268</td>\n",
       "      <td>0.011424</td>\n",
       "      <td>-0.011178</td>\n",
       "      <td>-0.005754</td>\n",
       "      <td>-0.014246</td>\n",
       "      <td>-0.006220</td>\n",
       "      <td>-0.017932</td>\n",
       "      <td>-0.012173</td>\n",
       "      <td>-0.009044</td>\n",
       "      <td>NaN</td>\n",
       "      <td>-0.002603</td>\n",
       "      <td>0.013792</td>\n",
       "      <td>1.000000</td>\n",
       "      <td>-0.001516</td>\n",
       "      <td>-0.012189</td>\n",
       "      <td>0.000323</td>\n",
       "      <td>0.002710</td>\n",
       "      <td>-0.010079</td>\n",
       "    </tr>\n",
       "    <tr>\n",
       "      <th>dayofyear</th>\n",
       "      <td>0.269540</td>\n",
       "      <td>0.614306</td>\n",
       "      <td>0.023586</td>\n",
       "      <td>0.012997</td>\n",
       "      <td>0.037174</td>\n",
       "      <td>0.015656</td>\n",
       "      <td>0.027429</td>\n",
       "      <td>0.079119</td>\n",
       "      <td>0.073908</td>\n",
       "      <td>NaN</td>\n",
       "      <td>0.996244</td>\n",
       "      <td>0.076220</td>\n",
       "      <td>-0.001516</td>\n",
       "      <td>1.000000</td>\n",
       "      <td>-0.000462</td>\n",
       "      <td>-0.005378</td>\n",
       "      <td>0.965989</td>\n",
       "      <td>0.021594</td>\n",
       "    </tr>\n",
       "    <tr>\n",
       "      <th>hour</th>\n",
       "      <td>-0.055383</td>\n",
       "      <td>-0.004317</td>\n",
       "      <td>-0.054516</td>\n",
       "      <td>0.004686</td>\n",
       "      <td>0.011001</td>\n",
       "      <td>0.009162</td>\n",
       "      <td>0.020765</td>\n",
       "      <td>-0.020269</td>\n",
       "      <td>-0.024195</td>\n",
       "      <td>NaN</td>\n",
       "      <td>-0.002042</td>\n",
       "      <td>0.017431</td>\n",
       "      <td>-0.012189</td>\n",
       "      <td>-0.000462</td>\n",
       "      <td>1.000000</td>\n",
       "      <td>0.008936</td>\n",
       "      <td>-0.000397</td>\n",
       "      <td>0.002205</td>\n",
       "    </tr>\n",
       "    <tr>\n",
       "      <th>minute</th>\n",
       "      <td>0.000179</td>\n",
       "      <td>-0.001996</td>\n",
       "      <td>-0.006775</td>\n",
       "      <td>-0.017164</td>\n",
       "      <td>-0.009880</td>\n",
       "      <td>0.009957</td>\n",
       "      <td>-0.010590</td>\n",
       "      <td>-0.003887</td>\n",
       "      <td>-0.006994</td>\n",
       "      <td>NaN</td>\n",
       "      <td>-0.005342</td>\n",
       "      <td>-0.000708</td>\n",
       "      <td>0.000323</td>\n",
       "      <td>-0.005378</td>\n",
       "      <td>0.008936</td>\n",
       "      <td>1.000000</td>\n",
       "      <td>-0.004144</td>\n",
       "      <td>-0.014696</td>\n",
       "    </tr>\n",
       "    <tr>\n",
       "      <th>weekofyear</th>\n",
       "      <td>0.259066</td>\n",
       "      <td>0.603616</td>\n",
       "      <td>0.022509</td>\n",
       "      <td>0.015470</td>\n",
       "      <td>0.039451</td>\n",
       "      <td>0.014533</td>\n",
       "      <td>0.028324</td>\n",
       "      <td>0.077256</td>\n",
       "      <td>0.074458</td>\n",
       "      <td>NaN</td>\n",
       "      <td>0.965002</td>\n",
       "      <td>0.043472</td>\n",
       "      <td>0.002710</td>\n",
       "      <td>0.965989</td>\n",
       "      <td>-0.000397</td>\n",
       "      <td>-0.004144</td>\n",
       "      <td>1.000000</td>\n",
       "      <td>0.023866</td>\n",
       "    </tr>\n",
       "    <tr>\n",
       "      <th>policeDistrict</th>\n",
       "      <td>0.106867</td>\n",
       "      <td>0.062781</td>\n",
       "      <td>0.092212</td>\n",
       "      <td>0.910190</td>\n",
       "      <td>0.847195</td>\n",
       "      <td>-0.474751</td>\n",
       "      <td>0.587950</td>\n",
       "      <td>0.287243</td>\n",
       "      <td>0.357931</td>\n",
       "      <td>NaN</td>\n",
       "      <td>0.022271</td>\n",
       "      <td>-0.002580</td>\n",
       "      <td>-0.010079</td>\n",
       "      <td>0.021594</td>\n",
       "      <td>0.002205</td>\n",
       "      <td>-0.014696</td>\n",
       "      <td>0.023866</td>\n",
       "      <td>1.000000</td>\n",
       "    </tr>\n",
       "  </tbody>\n",
       "</table>\n",
       "</div>"
      ],
      "text/plain": [
       "                 objectid  recordid  priority  district  policepost  \\\n",
       "objectid         1.000000  0.191970  0.645363  0.089986    0.036561   \n",
       "recordid         0.191970  1.000000  0.047183  0.054139    0.061609   \n",
       "priority         0.645363  0.047183  1.000000  0.071463    0.023569   \n",
       "district         0.089986  0.054139  0.071463  1.000000    0.724923   \n",
       "policepost       0.036561  0.061609  0.023569  0.724923    1.000000   \n",
       "councildistrict -0.087249 -0.028630 -0.093853 -0.491996   -0.449914   \n",
       "zipcode          0.012261  0.042858  0.001726  0.513639    0.736427   \n",
       "latitude         0.035348  0.064160  0.003761  0.257029    0.367192   \n",
       "longitude        0.067327  0.063822  0.041114  0.321244    0.418125   \n",
       "year                  NaN       NaN       NaN       NaN         NaN   \n",
       "month            0.269241  0.614511  0.022643  0.013463    0.038357   \n",
       "dayofmonth       0.013834  0.065975  0.013906 -0.000268   -0.009055   \n",
       "dayofweek        0.015268  0.011424 -0.011178 -0.005754   -0.014246   \n",
       "dayofyear        0.269540  0.614306  0.023586  0.012997    0.037174   \n",
       "hour            -0.055383 -0.004317 -0.054516  0.004686    0.011001   \n",
       "minute           0.000179 -0.001996 -0.006775 -0.017164   -0.009880   \n",
       "weekofyear       0.259066  0.603616  0.022509  0.015470    0.039451   \n",
       "policeDistrict   0.106867  0.062781  0.092212  0.910190    0.847195   \n",
       "\n",
       "                 councildistrict   zipcode  latitude  longitude  year  \\\n",
       "objectid               -0.087249  0.012261  0.035348   0.067327   NaN   \n",
       "recordid               -0.028630  0.042858  0.064160   0.063822   NaN   \n",
       "priority               -0.093853  0.001726  0.003761   0.041114   NaN   \n",
       "district               -0.491996  0.513639  0.257029   0.321244   NaN   \n",
       "policepost             -0.449914  0.736427  0.367192   0.418125   NaN   \n",
       "councildistrict         1.000000 -0.140769  0.044290  -0.032190   NaN   \n",
       "zipcode                -0.140769  1.000000  0.245474   0.326065   NaN   \n",
       "latitude                0.044290  0.245474  1.000000   0.830785   NaN   \n",
       "longitude              -0.032190  0.326065  0.830785   1.000000   NaN   \n",
       "year                         NaN       NaN       NaN        NaN   NaN   \n",
       "month                   0.015146  0.027937  0.078266   0.072978   NaN   \n",
       "dayofmonth              0.003020 -0.002305  0.013986   0.014593   NaN   \n",
       "dayofweek              -0.006220 -0.017932 -0.012173  -0.009044   NaN   \n",
       "dayofyear               0.015656  0.027429  0.079119   0.073908   NaN   \n",
       "hour                    0.009162  0.020765 -0.020269  -0.024195   NaN   \n",
       "minute                  0.009957 -0.010590 -0.003887  -0.006994   NaN   \n",
       "weekofyear              0.014533  0.028324  0.077256   0.074458   NaN   \n",
       "policeDistrict         -0.474751  0.587950  0.287243   0.357931   NaN   \n",
       "\n",
       "                    month  dayofmonth  dayofweek  dayofyear      hour  \\\n",
       "objectid         0.269241    0.013834   0.015268   0.269540 -0.055383   \n",
       "recordid         0.614511    0.065975   0.011424   0.614306 -0.004317   \n",
       "priority         0.022643    0.013906  -0.011178   0.023586 -0.054516   \n",
       "district         0.013463   -0.000268  -0.005754   0.012997  0.004686   \n",
       "policepost       0.038357   -0.009055  -0.014246   0.037174  0.011001   \n",
       "councildistrict  0.015146    0.003020  -0.006220   0.015656  0.009162   \n",
       "zipcode          0.027937   -0.002305  -0.017932   0.027429  0.020765   \n",
       "latitude         0.078266    0.013986  -0.012173   0.079119 -0.020269   \n",
       "longitude        0.072978    0.014593  -0.009044   0.073908 -0.024195   \n",
       "year                  NaN         NaN        NaN        NaN       NaN   \n",
       "month            1.000000   -0.010150  -0.002603   0.996244 -0.002042   \n",
       "dayofmonth      -0.010150    1.000000   0.013792   0.076220  0.017431   \n",
       "dayofweek       -0.002603    0.013792   1.000000  -0.001516 -0.012189   \n",
       "dayofyear        0.996244    0.076220  -0.001516   1.000000 -0.000462   \n",
       "hour            -0.002042    0.017431  -0.012189  -0.000462  1.000000   \n",
       "minute          -0.005342   -0.000708   0.000323  -0.005378  0.008936   \n",
       "weekofyear       0.965002    0.043472   0.002710   0.965989 -0.000397   \n",
       "policeDistrict   0.022271   -0.002580  -0.010079   0.021594  0.002205   \n",
       "\n",
       "                   minute  weekofyear  policeDistrict  \n",
       "objectid         0.000179    0.259066        0.106867  \n",
       "recordid        -0.001996    0.603616        0.062781  \n",
       "priority        -0.006775    0.022509        0.092212  \n",
       "district        -0.017164    0.015470        0.910190  \n",
       "policepost      -0.009880    0.039451        0.847195  \n",
       "councildistrict  0.009957    0.014533       -0.474751  \n",
       "zipcode         -0.010590    0.028324        0.587950  \n",
       "latitude        -0.003887    0.077256        0.287243  \n",
       "longitude       -0.006994    0.074458        0.357931  \n",
       "year                  NaN         NaN             NaN  \n",
       "month           -0.005342    0.965002        0.022271  \n",
       "dayofmonth      -0.000708    0.043472       -0.002580  \n",
       "dayofweek        0.000323    0.002710       -0.010079  \n",
       "dayofyear       -0.005378    0.965989        0.021594  \n",
       "hour             0.008936   -0.000397        0.002205  \n",
       "minute           1.000000   -0.004144       -0.014696  \n",
       "weekofyear      -0.004144    1.000000        0.023866  \n",
       "policeDistrict  -0.014696    0.023866        1.000000  "
      ]
     },
     "execution_count": 40,
     "metadata": {},
     "output_type": "execute_result"
    }
   ],
   "source": [
    "df.corr()"
   ]
  },
  {
   "cell_type": "code",
   "execution_count": 41,
   "id": "13a71d2e",
   "metadata": {},
   "outputs": [
    {
     "data": {
      "text/plain": [
       "<AxesSubplot:>"
      ]
     },
     "execution_count": 41,
     "metadata": {},
     "output_type": "execute_result"
    },
    {
     "data": {
      "image/png": "[encoded data removed]",
      "text/plain": [
       "<Figure size 432x288 with 2 Axes>"
      ]
     },
     "metadata": {
      "needs_background": "light"
     },
     "output_type": "display_data"
    }
   ],
   "source": [
    "sns.heatmap(df.corr())"
   ]
  },
  {
   "cell_type": "code",
   "execution_count": 42,
   "id": "0204d836",
   "metadata": {},
   "outputs": [
    {
     "data": {
      "text/plain": [
       "Index(['objectid', 'recordid', 'callkey', 'calldatetime', 'priority',\n",
       "       'district', 'description', 'callnumber', 'incidentlocation', 'location',\n",
       "       'neighborhood', 'policedistrict', 'policepost', 'councildistrict',\n",
       "       'sheriffdistricts', 'community_statistical_areas', 'census_tracts',\n",
       "       'vrizones', 'zipcode', 'latitude', 'longitude', 'year', 'month',\n",
       "       'dayofmonth', 'dayofweek', 'dayofyear', 'hour', 'minute', 'weekofyear',\n",
       "       'policeDistrict'],\n",
       "      dtype='object')"
      ]
     },
     "execution_count": 42,
     "metadata": {},
     "output_type": "execute_result"
    }
   ],
   "source": [
    "df.columns\n"
   ]
  },
  {
   "cell_type": "code",
   "execution_count": null,
   "id": "02c51dba",
   "metadata": {},
   "outputs": [],
   "source": []
  },
  {
   "cell_type": "markdown",
   "id": "f87543b7",
   "metadata": {},
   "source": [
    "# 5.Model Building"
   ]
  },
  {
   "cell_type": "markdown",
   "id": "f9b0ba06",
   "metadata": {},
   "source": [
    "## Fixed Dependent and independent Variables"
   ]
  },
  {
   "cell_type": "code",
   "execution_count": 43,
   "id": "ee84d4e2",
   "metadata": {},
   "outputs": [],
   "source": [
    "from sklearn.preprocessing import LabelEncoder\n",
    "le=LabelEncoder()\n",
    "df['priority']=le.fit_transform(df['priority'])\n",
    "df['district']=le.fit_transform(df['district'])\n",
    "df['policedistrict']=le.fit_transform(df['policedistrict'])"
   ]
  },
  {
   "cell_type": "code",
   "execution_count": 44,
   "id": "ccec724a",
   "metadata": {},
   "outputs": [],
   "source": [
    "df['calldatetime'] = pd.to_datetime(df['calldatetime'])\n",
    "df['calldatetime'] = (df['calldatetime'] - df['calldatetime'].iloc[0])/pd.to_timedelta('1Min')"
   ]
  },
  {
   "cell_type": "code",
   "execution_count": 45,
   "id": "29271702",
   "metadata": {},
   "outputs": [
    {
     "name": "stdout",
     "output_type": "stream",
     "text": [
      "selected columns ['priority']\n",
      "previous r2 = -1, current r2 = 0.0005555204309389827\n",
      "since this is the first column, add (priority) it to the list\n",
      "selected columns ['priority', 'district']\n",
      "previous r2 = 0.0005555204309389827, current r2 = 0.5263153980572216\n",
      "r2 - previous_r2 = 0.5257598776262826\n",
      "found col: district increasing the r2 score\n",
      "selected columns ['priority', 'district', 'policedistrict']\n",
      "previous r2 = 0.5263153980572216, current r2 = 0.733558302439777\n",
      "r2 - previous_r2 = 0.20724290438255544\n",
      "found col: policedistrict increasing the r2 score\n",
      "selected columns ['priority', 'district', 'policedistrict', 'policepost']\n",
      "previous r2 = 0.733558302439777, current r2 = 1.0\n",
      "r2 - previous_r2 = 0.26644169756022296\n",
      "found col: policepost increasing the r2 score\n",
      "selected columns ['priority', 'district', 'policedistrict', 'policepost', 'councildistrict']\n",
      "previous r2 = 1.0, current r2 = 1.0\n",
      "r2 - previous_r2 = 0.0\n",
      "selected columns ['priority', 'district', 'policedistrict', 'policepost', 'zipcode']\n",
      "previous r2 = 1.0, current r2 = 1.0\n",
      "r2 - previous_r2 = 0.0\n",
      "selected columns ['priority', 'district', 'policedistrict', 'policepost', 'latitude']\n",
      "previous r2 = 1.0, current r2 = 1.0\n",
      "r2 - previous_r2 = 0.0\n",
      "selected columns ['priority', 'district', 'policedistrict', 'policepost', 'longitude']\n",
      "previous r2 = 1.0, current r2 = 1.0\n",
      "r2 - previous_r2 = 0.0\n",
      "selected columns ['priority', 'district', 'policedistrict', 'policepost', 'year']\n",
      "previous r2 = 1.0, current r2 = 1.0\n",
      "r2 - previous_r2 = 0.0\n",
      "selected columns ['priority', 'district', 'policedistrict', 'policepost', 'month']\n",
      "previous r2 = 1.0, current r2 = 1.0\n",
      "r2 - previous_r2 = 0.0\n",
      "selected columns ['priority', 'district', 'policedistrict', 'policepost', 'dayofmonth']\n",
      "previous r2 = 1.0, current r2 = 1.0\n",
      "r2 - previous_r2 = 0.0\n",
      "selected columns ['priority', 'district', 'policedistrict', 'policepost', 'dayofweek']\n",
      "previous r2 = 1.0, current r2 = 1.0\n",
      "r2 - previous_r2 = 0.0\n",
      "selected columns ['priority', 'district', 'policedistrict', 'policepost', 'dayofyear']\n",
      "previous r2 = 1.0, current r2 = 1.0\n",
      "r2 - previous_r2 = 0.0\n",
      "selected columns ['priority', 'district', 'policedistrict', 'policepost', 'hour']\n",
      "previous r2 = 1.0, current r2 = 1.0\n",
      "r2 - previous_r2 = 0.0\n",
      "selected columns ['priority', 'district', 'policedistrict', 'policepost', 'minute']\n",
      "previous r2 = 1.0, current r2 = 1.0\n",
      "r2 - previous_r2 = 0.0\n",
      "selected columns ['priority', 'district', 'policedistrict', 'policepost', 'weekofyear']\n",
      "previous r2 = 1.0, current r2 = 1.0\n",
      "r2 - previous_r2 = 0.0\n",
      "finally selected columns = ['priority', 'district', 'policedistrict', 'policepost']\n"
     ]
    }
   ],
   "source": [
    "from sklearn.linear_model import LinearRegression\n",
    "from sklearn.metrics import r2_score\n",
    "\n",
    "# Profit is the dependent column\n",
    "y = df['policepost']\n",
    "\n",
    "# start with nothing\n",
    "x_names = []\n",
    "\n",
    "# the previous r2\n",
    "previous_r2 = -1\n",
    "\n",
    "# list of all columns\n",
    "columns = ['priority','district', 'policedistrict', 'policepost', 'councildistrict','zipcode', 'latitude', 'longitude', 'year', 'month',\n",
    "       'dayofmonth', 'dayofweek', 'dayofyear', 'hour', 'minute', 'weekofyear']\n",
    "\n",
    "# choose one col at a time and check its significance\n",
    "for col in columns:\n",
    "    \n",
    "    # this will hold all the variables need to pass to the model\n",
    "    temp_variables = []\n",
    "    \n",
    "    # add previously selected variable(s)\n",
    "    temp_variables.extend(x_names)\n",
    "    \n",
    "    # add the current column\n",
    "    temp_variables.append(col)\n",
    "    \n",
    "    print(f\"selected columns {temp_variables}\")\n",
    "    \n",
    "    # get all the variables in the form of a df\n",
    "    x = df[temp_variables]\n",
    "    \n",
    "    # create model \n",
    "    model = LinearRegression()\n",
    "    \n",
    "    # train the model\n",
    "    model.fit(x, y)\n",
    "    \n",
    "    # predict the values\n",
    "    predictions = model.predict(x)\n",
    "    \n",
    "    # evaluate the model\n",
    "    r2 = r2_score(y, predictions)\n",
    "\n",
    "    print(f\"previous r2 = {previous_r2}, current r2 = {r2}\")\n",
    "    \n",
    "    # check if this is the first variable\n",
    "    if previous_r2 == -1:\n",
    "        previous_r2 = r2\n",
    "        x_names.append(col)\n",
    "        print(rf\"since this is the first column, add ({col}) it to the list\")\n",
    "    else:\n",
    "        # check if this r2 is greater than the previous one\n",
    "        # if r2 > previous_r2:\n",
    "        \n",
    "        # check if the r2 difference is significant\n",
    "        print(f\"r2 - previous_r2 = {r2 - previous_r2}\")\n",
    "        if (r2 - previous_r2) >= 0.05:\n",
    "            previous_r2 = r2\n",
    "            x_names.append(col)\n",
    "            print(f\"found col: {col} increasing the r2 score\")\n",
    "        \n",
    "        \n",
    "print(f\"finally selected columns = {x_names}\")"
   ]
  },
  {
   "cell_type": "code",
   "execution_count": 46,
   "id": "b0fdc548",
   "metadata": {},
   "outputs": [],
   "source": [
    "x = df.drop(['objectid', 'recordid','policedistrict','callkey','policepost' ,'calldatetime', 'description', 'callnumber', 'incidentlocation', 'location','neighborhood', 'councildistrict','sheriffdistricts', 'community_statistical_areas', 'census_tracts','vrizones', 'zipcode', 'latitude', 'longitude', 'year', 'month','dayofmonth', 'dayofweek', 'dayofyear', 'hour', 'minute', 'weekofyear'], axis=1)\n",
    "y = df['zipcode']\n"
   ]
  },
  {
   "cell_type": "markdown",
   "id": "2950b3a8",
   "metadata": {},
   "source": [
    "## Split the dataset for taring and testing "
   ]
  },
  {
   "cell_type": "code",
   "execution_count": 47,
   "id": "fd64c362",
   "metadata": {},
   "outputs": [],
   "source": [
    "from sklearn.model_selection import train_test_split\n",
    "\n",
    "#split the data into train and test sets\n",
    "x_train, x_test, y_train, y_test = train_test_split(x, y, train_size=0.8, random_state=1234567)"
   ]
  },
  {
   "cell_type": "markdown",
   "id": "1e58ea16",
   "metadata": {},
   "source": [
    "# RandomForest Algorithum"
   ]
  },
  {
   "cell_type": "code",
   "execution_count": 48,
   "id": "151f5975",
   "metadata": {},
   "outputs": [
    {
     "data": {
      "text/plain": [
       "RandomForestClassifier(n_estimators=10)"
      ]
     },
     "execution_count": 48,
     "metadata": {},
     "output_type": "execute_result"
    }
   ],
   "source": [
    "from sklearn.ensemble import RandomForestClassifier\n",
    "#create a model\n",
    "model1 = RandomForestClassifier(n_estimators=10)\n",
    "#train the model\n",
    "model1.fit(x_train, y_train)"
   ]
  },
  {
   "cell_type": "markdown",
   "id": "bd354c36",
   "metadata": {},
   "source": [
    "## Classification report for Random Forest Algorithm"
   ]
  },
  {
   "cell_type": "code",
   "execution_count": null,
   "id": "3948cb45",
   "metadata": {},
   "outputs": [],
   "source": []
  },
  {
   "cell_type": "code",
   "execution_count": null,
   "id": "993a740b",
   "metadata": {},
   "outputs": [],
   "source": []
  },
  {
   "cell_type": "code",
   "execution_count": 49,
   "id": "578ea63f",
   "metadata": {},
   "outputs": [
    {
     "name": "stdout",
     "output_type": "stream",
     "text": [
      "              precision    recall  f1-score   support\n",
      "\n",
      "     21201.0       0.00      0.00      0.00       118\n",
      "     21202.0       0.00      0.00      0.00        67\n",
      "     21205.0       0.97      0.21      0.35       179\n",
      "     21206.0       0.00      0.00      0.00       122\n",
      "     21213.0       0.48      0.99      0.64       426\n",
      "     21215.0       1.00      1.00      1.00       307\n",
      "     21216.0       0.00      0.00      0.00        74\n",
      "     21217.0       0.76      1.00      0.86      1180\n",
      "     21218.0       0.62      0.07      0.13       142\n",
      "     21223.0       0.80      0.72      0.76       742\n",
      "     21225.0       0.63      0.19      0.29       162\n",
      "\n",
      "    accuracy                           0.72      3519\n",
      "   macro avg       0.48      0.38      0.37      3519\n",
      "weighted avg       0.67      0.72      0.65      3519\n",
      "\n"
     ]
    },
    {
     "name": "stderr",
     "output_type": "stream",
     "text": [
      "c:\\users\\dell\\appdata\\local\\programs\\python\\python39\\lib\\site-packages\\sklearn\\metrics\\_classification.py:1308: UndefinedMetricWarning: Precision and F-score are ill-defined and being set to 0.0 in labels with no predicted samples. Use `zero_division` parameter to control this behavior.\n",
      "  _warn_prf(average, modifier, msg_start, len(result))\n",
      "c:\\users\\dell\\appdata\\local\\programs\\python\\python39\\lib\\site-packages\\sklearn\\metrics\\_classification.py:1308: UndefinedMetricWarning: Precision and F-score are ill-defined and being set to 0.0 in labels with no predicted samples. Use `zero_division` parameter to control this behavior.\n",
      "  _warn_prf(average, modifier, msg_start, len(result))\n",
      "c:\\users\\dell\\appdata\\local\\programs\\python\\python39\\lib\\site-packages\\sklearn\\metrics\\_classification.py:1308: UndefinedMetricWarning: Precision and F-score are ill-defined and being set to 0.0 in labels with no predicted samples. Use `zero_division` parameter to control this behavior.\n",
      "  _warn_prf(average, modifier, msg_start, len(result))\n"
     ]
    }
   ],
   "source": [
    "predictions = model1.predict(x_test)\n",
    "from sklearn.metrics import classification_report\n",
    "print(classification_report(y_test,predictions))"
   ]
  },
  {
   "cell_type": "markdown",
   "id": "fde48b5e",
   "metadata": {},
   "source": [
    "# DecisionTree Algorithm"
   ]
  },
  {
   "cell_type": "code",
   "execution_count": 50,
   "id": "56eae3b3",
   "metadata": {},
   "outputs": [
    {
     "data": {
      "text/plain": [
       "DecisionTreeClassifier()"
      ]
     },
     "execution_count": 50,
     "metadata": {},
     "output_type": "execute_result"
    }
   ],
   "source": [
    "from sklearn.tree import DecisionTreeClassifier\n",
    "\n",
    "# # create the model\n",
    "model = DecisionTreeClassifier()\n",
    "\n",
    "# # fit the model\n",
    "model.fit(x_train, y_train)"
   ]
  },
  {
   "cell_type": "markdown",
   "id": "60a5359e",
   "metadata": {},
   "source": [
    "# Classsification Report for Decision Tree Algorithum"
   ]
  },
  {
   "cell_type": "code",
   "execution_count": 51,
   "id": "fb7ef259",
   "metadata": {},
   "outputs": [
    {
     "name": "stdout",
     "output_type": "stream",
     "text": [
      "              precision    recall  f1-score   support\n",
      "\n",
      "     21201.0       0.00      0.00      0.00       118\n",
      "     21202.0       0.00      0.00      0.00        67\n",
      "     21205.0       0.95      0.22      0.35       179\n",
      "     21206.0       0.00      0.00      0.00       122\n",
      "     21213.0       0.48      0.98      0.64       426\n",
      "     21215.0       1.00      1.00      1.00       307\n",
      "     21216.0       0.00      0.00      0.00        74\n",
      "     21217.0       0.76      1.00      0.86      1180\n",
      "     21218.0       0.62      0.07      0.13       142\n",
      "     21223.0       0.77      0.75      0.76       742\n",
      "     21225.0       0.00      0.00      0.00       162\n",
      "\n",
      "    accuracy                           0.71      3519\n",
      "   macro avg       0.42      0.37      0.34      3519\n",
      "weighted avg       0.63      0.71      0.64      3519\n",
      "\n"
     ]
    },
    {
     "name": "stderr",
     "output_type": "stream",
     "text": [
      "c:\\users\\dell\\appdata\\local\\programs\\python\\python39\\lib\\site-packages\\sklearn\\metrics\\_classification.py:1308: UndefinedMetricWarning: Precision and F-score are ill-defined and being set to 0.0 in labels with no predicted samples. Use `zero_division` parameter to control this behavior.\n",
      "  _warn_prf(average, modifier, msg_start, len(result))\n",
      "c:\\users\\dell\\appdata\\local\\programs\\python\\python39\\lib\\site-packages\\sklearn\\metrics\\_classification.py:1308: UndefinedMetricWarning: Precision and F-score are ill-defined and being set to 0.0 in labels with no predicted samples. Use `zero_division` parameter to control this behavior.\n",
      "  _warn_prf(average, modifier, msg_start, len(result))\n",
      "c:\\users\\dell\\appdata\\local\\programs\\python\\python39\\lib\\site-packages\\sklearn\\metrics\\_classification.py:1308: UndefinedMetricWarning: Precision and F-score are ill-defined and being set to 0.0 in labels with no predicted samples. Use `zero_division` parameter to control this behavior.\n",
      "  _warn_prf(average, modifier, msg_start, len(result))\n"
     ]
    }
   ],
   "source": [
    "predictions = model.predict(x_test)\n",
    "from sklearn.metrics import classification_report\n",
    "\n",
    "print(classification_report(y_test, predictions))"
   ]
  },
  {
   "cell_type": "markdown",
   "id": "85f3ef1b",
   "metadata": {},
   "source": [
    "## Ploting of Decision Tree"
   ]
  },
  {
   "cell_type": "code",
   "execution_count": 52,
   "id": "e22a2489",
   "metadata": {},
   "outputs": [],
   "source": [
    "# #import graphviz\n",
    "from sklearn.tree import plot_tree"
   ]
  },
  {
   "cell_type": "code",
   "execution_count": 53,
   "id": "a37d9873",
   "metadata": {},
   "outputs": [
    {
     "data": {
      "text/plain": [
       "{'ccp_alpha': 0.0,\n",
       " 'class_weight': None,\n",
       " 'criterion': 'gini',\n",
       " 'max_depth': None,\n",
       " 'max_features': None,\n",
       " 'max_leaf_nodes': None,\n",
       " 'min_impurity_decrease': 0.0,\n",
       " 'min_samples_leaf': 1,\n",
       " 'min_samples_split': 2,\n",
       " 'min_weight_fraction_leaf': 0.0,\n",
       " 'random_state': None,\n",
       " 'splitter': 'best'}"
      ]
     },
     "execution_count": 53,
     "metadata": {},
     "output_type": "execute_result"
    }
   ],
   "source": [
    "model.get_params()"
   ]
  },
  {
   "cell_type": "markdown",
   "id": "d2646d56",
   "metadata": {},
   "source": [
    "# Predictions"
   ]
  },
  {
   "cell_type": "code",
   "execution_count": 54,
   "id": "ba49238d",
   "metadata": {},
   "outputs": [
    {
     "data": {
      "text/plain": [
       "array([21223., 21217., 21223., ..., 21213., 21217., 21213.])"
      ]
     },
     "execution_count": 54,
     "metadata": {},
     "output_type": "execute_result"
    }
   ],
   "source": [
    "predictions= model.predict(x_test)\n",
    "predictions"
   ]
  },
  {
   "cell_type": "code",
   "execution_count": 55,
   "id": "bc6efc8e",
   "metadata": {},
   "outputs": [
    {
     "data": {
      "text/plain": [
       "array([[0.        , 0.        , 0.        , ..., 0.        , 1.        ,\n",
       "        0.        ],\n",
       "       [0.00821988, 0.        , 0.        , ..., 0.        , 0.17647059,\n",
       "        0.        ],\n",
       "       [0.        , 0.        , 0.        , ..., 0.        , 0.58239278,\n",
       "        0.41760722],\n",
       "       ...,\n",
       "       [0.        , 0.        , 0.        , ..., 0.0420712 , 0.        ,\n",
       "        0.        ],\n",
       "       [0.        , 0.        , 0.        , ..., 0.        , 0.07762557,\n",
       "        0.        ],\n",
       "       [0.        , 0.        , 0.        , ..., 0.14655172, 0.        ,\n",
       "        0.        ]])"
      ]
     },
     "execution_count": 55,
     "metadata": {},
     "output_type": "execute_result"
    }
   ],
   "source": [
    "model.predict_proba(x_test)"
   ]
  },
  {
   "cell_type": "code",
   "execution_count": 56,
   "id": "8b3520c8",
   "metadata": {},
   "outputs": [
    {
     "data": {
      "text/plain": [
       "0.7124183006535948"
      ]
     },
     "execution_count": 56,
     "metadata": {},
     "output_type": "execute_result"
    }
   ],
   "source": [
    "from sklearn.metrics import accuracy_score\n",
    "accuracy_score(y_test,predictions)"
   ]
  },
  {
   "cell_type": "code",
   "execution_count": 57,
   "id": "6086407e",
   "metadata": {},
   "outputs": [
    {
     "data": {
      "text/plain": [
       "array([[   0,    0,    0,    0,    0,    0,    0,  118,    0,    0,    0],\n",
       "       [   0,    0,    0,    0,   67,    0,    0,    0,    0,    0,    0],\n",
       "       [   0,    0,   39,    0,  140,    0,    0,    0,    0,    0,    0],\n",
       "       [   0,    0,    0,    0,  122,    0,    0,    0,    0,    0,    0],\n",
       "       [   0,    0,    1,    0,  419,    0,    0,    0,    6,    0,    0],\n",
       "       [   0,    0,    0,    0,    0,  307,    0,    0,    0,    0,    0],\n",
       "       [   0,    0,    0,    0,    0,    0,    0,   73,    0,    1,    0],\n",
       "       [   0,    0,    0,    0,    0,    0,    0, 1177,    0,    3,    0],\n",
       "       [   0,    0,    1,    0,  131,    0,    0,    0,   10,    0,    0],\n",
       "       [   0,    0,    0,    0,    0,    0,    0,  187,    0,  555,    0],\n",
       "       [   0,    0,    0,    0,    0,    0,    0,    0,    0,  162,    0]],\n",
       "      dtype=int64)"
      ]
     },
     "execution_count": 57,
     "metadata": {},
     "output_type": "execute_result"
    }
   ],
   "source": [
    "from sklearn.metrics import confusion_matrix\n",
    "confusion_matrix(y_test,predictions)"
   ]
  },
  {
   "cell_type": "code",
   "execution_count": 58,
   "id": "578df8d0",
   "metadata": {},
   "outputs": [
    {
     "data": {
      "text/plain": [
       "0.7124183006535948"
      ]
     },
     "execution_count": 58,
     "metadata": {},
     "output_type": "execute_result"
    }
   ],
   "source": [
    "from sklearn.metrics import precision_score\n",
    "precision_score(y_test,predictions,average='micro')\n"
   ]
  },
  {
   "cell_type": "code",
   "execution_count": 59,
   "id": "88060495",
   "metadata": {},
   "outputs": [
    {
     "data": {
      "text/plain": [
       "0.7124183006535948"
      ]
     },
     "execution_count": 59,
     "metadata": {},
     "output_type": "execute_result"
    }
   ],
   "source": [
    "from sklearn.metrics import recall_score\n",
    "recall_score(y_test,predictions,average='micro')"
   ]
  },
  {
   "cell_type": "code",
   "execution_count": 60,
   "id": "7bb7d0cb",
   "metadata": {},
   "outputs": [
    {
     "name": "stdout",
     "output_type": "stream",
     "text": [
      "              precision    recall  f1-score   support\n",
      "\n",
      "     21201.0       0.00      0.00      0.00       118\n",
      "     21202.0       0.00      0.00      0.00        67\n",
      "     21205.0       0.95      0.22      0.35       179\n",
      "     21206.0       0.00      0.00      0.00       122\n",
      "     21213.0       0.48      0.98      0.64       426\n",
      "     21215.0       1.00      1.00      1.00       307\n",
      "     21216.0       0.00      0.00      0.00        74\n",
      "     21217.0       0.76      1.00      0.86      1180\n",
      "     21218.0       0.62      0.07      0.13       142\n",
      "     21223.0       0.77      0.75      0.76       742\n",
      "     21225.0       0.00      0.00      0.00       162\n",
      "\n",
      "    accuracy                           0.71      3519\n",
      "   macro avg       0.42      0.37      0.34      3519\n",
      "weighted avg       0.63      0.71      0.64      3519\n",
      "\n"
     ]
    },
    {
     "name": "stderr",
     "output_type": "stream",
     "text": [
      "c:\\users\\dell\\appdata\\local\\programs\\python\\python39\\lib\\site-packages\\sklearn\\metrics\\_classification.py:1308: UndefinedMetricWarning: Precision and F-score are ill-defined and being set to 0.0 in labels with no predicted samples. Use `zero_division` parameter to control this behavior.\n",
      "  _warn_prf(average, modifier, msg_start, len(result))\n",
      "c:\\users\\dell\\appdata\\local\\programs\\python\\python39\\lib\\site-packages\\sklearn\\metrics\\_classification.py:1308: UndefinedMetricWarning: Precision and F-score are ill-defined and being set to 0.0 in labels with no predicted samples. Use `zero_division` parameter to control this behavior.\n",
      "  _warn_prf(average, modifier, msg_start, len(result))\n",
      "c:\\users\\dell\\appdata\\local\\programs\\python\\python39\\lib\\site-packages\\sklearn\\metrics\\_classification.py:1308: UndefinedMetricWarning: Precision and F-score are ill-defined and being set to 0.0 in labels with no predicted samples. Use `zero_division` parameter to control this behavior.\n",
      "  _warn_prf(average, modifier, msg_start, len(result))\n"
     ]
    }
   ],
   "source": [
    "from sklearn.metrics import classification_report\n",
    "print(classification_report(y_test, predictions))"
   ]
  },
  {
   "cell_type": "code",
   "execution_count": 61,
   "id": "662d98fb",
   "metadata": {},
   "outputs": [],
   "source": [
    "#df = df.to_csv(\"./powerBI.csv\")\n",
    "    "
   ]
  },
  {
   "cell_type": "code",
   "execution_count": 62,
   "id": "f1be66f8",
   "metadata": {},
   "outputs": [
    {
     "data": {
      "text/html": [
       "<div>\n",
       "<style scoped>\n",
       "    .dataframe tbody tr th:only-of-type {\n",
       "        vertical-align: middle;\n",
       "    }\n",
       "\n",
       "    .dataframe tbody tr th {\n",
       "        vertical-align: top;\n",
       "    }\n",
       "\n",
       "    .dataframe thead th {\n",
       "        text-align: right;\n",
       "    }\n",
       "</style>\n",
       "<table border=\"1\" class=\"dataframe\">\n",
       "  <thead>\n",
       "    <tr style=\"text-align: right;\">\n",
       "      <th></th>\n",
       "      <th>priority</th>\n",
       "      <th>district</th>\n",
       "      <th>policeDistrict</th>\n",
       "    </tr>\n",
       "  </thead>\n",
       "  <tbody>\n",
       "    <tr>\n",
       "      <th>76788</th>\n",
       "      <td>4</td>\n",
       "      <td>11</td>\n",
       "      <td>7</td>\n",
       "    </tr>\n",
       "    <tr>\n",
       "      <th>74504</th>\n",
       "      <td>4</td>\n",
       "      <td>11</td>\n",
       "      <td>7</td>\n",
       "    </tr>\n",
       "    <tr>\n",
       "      <th>7563</th>\n",
       "      <td>4</td>\n",
       "      <td>11</td>\n",
       "      <td>7</td>\n",
       "    </tr>\n",
       "    <tr>\n",
       "      <th>32594</th>\n",
       "      <td>4</td>\n",
       "      <td>4</td>\n",
       "      <td>2</td>\n",
       "    </tr>\n",
       "    <tr>\n",
       "      <th>96831</th>\n",
       "      <td>4</td>\n",
       "      <td>6</td>\n",
       "      <td>5</td>\n",
       "    </tr>\n",
       "    <tr>\n",
       "      <th>...</th>\n",
       "      <td>...</td>\n",
       "      <td>...</td>\n",
       "      <td>...</td>\n",
       "    </tr>\n",
       "    <tr>\n",
       "      <th>16901</th>\n",
       "      <td>4</td>\n",
       "      <td>9</td>\n",
       "      <td>6</td>\n",
       "    </tr>\n",
       "    <tr>\n",
       "      <th>34748</th>\n",
       "      <td>4</td>\n",
       "      <td>4</td>\n",
       "      <td>2</td>\n",
       "    </tr>\n",
       "    <tr>\n",
       "      <th>36718</th>\n",
       "      <td>4</td>\n",
       "      <td>6</td>\n",
       "      <td>5</td>\n",
       "    </tr>\n",
       "    <tr>\n",
       "      <th>91376</th>\n",
       "      <td>4</td>\n",
       "      <td>11</td>\n",
       "      <td>7</td>\n",
       "    </tr>\n",
       "    <tr>\n",
       "      <th>79706</th>\n",
       "      <td>4</td>\n",
       "      <td>11</td>\n",
       "      <td>0</td>\n",
       "    </tr>\n",
       "  </tbody>\n",
       "</table>\n",
       "<p>14074 rows × 3 columns</p>\n",
       "</div>"
      ],
      "text/plain": [
       "       priority  district  policeDistrict\n",
       "76788         4        11               7\n",
       "74504         4        11               7\n",
       "7563          4        11               7\n",
       "32594         4         4               2\n",
       "96831         4         6               5\n",
       "...         ...       ...             ...\n",
       "16901         4         9               6\n",
       "34748         4         4               2\n",
       "36718         4         6               5\n",
       "91376         4        11               7\n",
       "79706         4        11               0\n",
       "\n",
       "[14074 rows x 3 columns]"
      ]
     },
     "execution_count": 62,
     "metadata": {},
     "output_type": "execute_result"
    }
   ],
   "source": [
    "x_train"
   ]
  },
  {
   "cell_type": "code",
   "execution_count": 63,
   "id": "09114f90",
   "metadata": {},
   "outputs": [],
   "source": [
    "import pickle\n",
    "file = open('Finalpkl.pkl', 'wb')\n",
    "\n",
    "# store the model using pickle\n",
    "pickle.dump(model, file)\n",
    "\n",
    "# save the file\n",
    "file.close()\n"
   ]
  },
  {
   "cell_type": "code",
   "execution_count": 64,
   "id": "55e6f1b3",
   "metadata": {},
   "outputs": [
    {
     "data": {
      "text/html": [
       "<div>\n",
       "<style scoped>\n",
       "    .dataframe tbody tr th:only-of-type {\n",
       "        vertical-align: middle;\n",
       "    }\n",
       "\n",
       "    .dataframe tbody tr th {\n",
       "        vertical-align: top;\n",
       "    }\n",
       "\n",
       "    .dataframe thead th {\n",
       "        text-align: right;\n",
       "    }\n",
       "</style>\n",
       "<table border=\"1\" class=\"dataframe\">\n",
       "  <thead>\n",
       "    <tr style=\"text-align: right;\">\n",
       "      <th></th>\n",
       "      <th>priority</th>\n",
       "      <th>district</th>\n",
       "      <th>policeDistrict</th>\n",
       "    </tr>\n",
       "  </thead>\n",
       "  <tbody>\n",
       "    <tr>\n",
       "      <th>28753</th>\n",
       "      <td>2</td>\n",
       "      <td>9</td>\n",
       "      <td>6</td>\n",
       "    </tr>\n",
       "    <tr>\n",
       "      <th>98615</th>\n",
       "      <td>4</td>\n",
       "      <td>11</td>\n",
       "      <td>7</td>\n",
       "    </tr>\n",
       "    <tr>\n",
       "      <th>32691</th>\n",
       "      <td>3</td>\n",
       "      <td>6</td>\n",
       "      <td>5</td>\n",
       "    </tr>\n",
       "    <tr>\n",
       "      <th>41474</th>\n",
       "      <td>4</td>\n",
       "      <td>9</td>\n",
       "      <td>6</td>\n",
       "    </tr>\n",
       "    <tr>\n",
       "      <th>19620</th>\n",
       "      <td>3</td>\n",
       "      <td>11</td>\n",
       "      <td>7</td>\n",
       "    </tr>\n",
       "    <tr>\n",
       "      <th>...</th>\n",
       "      <td>...</td>\n",
       "      <td>...</td>\n",
       "      <td>...</td>\n",
       "    </tr>\n",
       "    <tr>\n",
       "      <th>66524</th>\n",
       "      <td>4</td>\n",
       "      <td>4</td>\n",
       "      <td>2</td>\n",
       "    </tr>\n",
       "    <tr>\n",
       "      <th>90190</th>\n",
       "      <td>3</td>\n",
       "      <td>11</td>\n",
       "      <td>7</td>\n",
       "    </tr>\n",
       "    <tr>\n",
       "      <th>44234</th>\n",
       "      <td>4</td>\n",
       "      <td>4</td>\n",
       "      <td>2</td>\n",
       "    </tr>\n",
       "    <tr>\n",
       "      <th>15949</th>\n",
       "      <td>1</td>\n",
       "      <td>11</td>\n",
       "      <td>7</td>\n",
       "    </tr>\n",
       "    <tr>\n",
       "      <th>26000</th>\n",
       "      <td>2</td>\n",
       "      <td>4</td>\n",
       "      <td>2</td>\n",
       "    </tr>\n",
       "  </tbody>\n",
       "</table>\n",
       "<p>3519 rows × 3 columns</p>\n",
       "</div>"
      ],
      "text/plain": [
       "       priority  district  policeDistrict\n",
       "28753         2         9               6\n",
       "98615         4        11               7\n",
       "32691         3         6               5\n",
       "41474         4         9               6\n",
       "19620         3        11               7\n",
       "...         ...       ...             ...\n",
       "66524         4         4               2\n",
       "90190         3        11               7\n",
       "44234         4         4               2\n",
       "15949         1        11               7\n",
       "26000         2         4               2\n",
       "\n",
       "[3519 rows x 3 columns]"
      ]
     },
     "execution_count": 64,
     "metadata": {},
     "output_type": "execute_result"
    }
   ],
   "source": [
    "x_test"
   ]
  },
  {
   "cell_type": "code",
   "execution_count": null,
   "id": "3964d3eb",
   "metadata": {},
   "outputs": [],
   "source": []
  },
  {
   "cell_type": "code",
   "execution_count": null,
   "id": "8e947d21",
   "metadata": {},
   "outputs": [],
   "source": []
  },
  {
   "cell_type": "code",
   "execution_count": null,
   "id": "b19ef81d",
   "metadata": {},
   "outputs": [],
   "source": []
  },
  {
   "cell_type": "code",
   "execution_count": null,
   "id": "afcbac09",
   "metadata": {},
   "outputs": [],
   "source": []
  },
  {
   "cell_type": "code",
   "execution_count": null,
   "id": "e590a47f",
   "metadata": {},
   "outputs": [],
   "source": []
  },
  {
   "cell_type": "code",
   "execution_count": null,
   "id": "c3111ed7",
   "metadata": {},
   "outputs": [],
   "source": []
  },
  {
   "cell_type": "code",
   "execution_count": null,
   "id": "b31a7644",
   "metadata": {},
   "outputs": [],
   "source": []
  },
  {
   "cell_type": "code",
   "execution_count": null,
   "id": "5d7675e5",
   "metadata": {},
   "outputs": [],
   "source": []
  },
  {
   "cell_type": "code",
   "execution_count": null,
   "id": "2aa54e3e",
   "metadata": {},
   "outputs": [],
   "source": []
  },
  {
   "cell_type": "code",
   "execution_count": null,
   "id": "d157095d",
   "metadata": {},
   "outputs": [],
   "source": []
  },
  {
   "cell_type": "code",
   "execution_count": null,
   "id": "257bebc1",
   "metadata": {},
   "outputs": [],
   "source": []
  },
  {
   "cell_type": "code",
   "execution_count": null,
   "id": "f69f2622",
   "metadata": {},
   "outputs": [],
   "source": []
  },
  {
   "cell_type": "code",
   "execution_count": null,
   "id": "9933409e",
   "metadata": {},
   "outputs": [],
   "source": []
  },
  {
   "cell_type": "code",
   "execution_count": null,
   "id": "65ec724a",
   "metadata": {},
   "outputs": [],
   "source": []
  },
  {
   "cell_type": "code",
   "execution_count": null,
   "id": "fd18d61e",
   "metadata": {},
   "outputs": [],
   "source": []
  },
  {
   "cell_type": "code",
   "execution_count": null,
   "id": "3f18a4c7",
   "metadata": {},
   "outputs": [],
   "source": []
  },
  {
   "cell_type": "code",
   "execution_count": null,
   "id": "9af5caf0",
   "metadata": {},
   "outputs": [],
   "source": []
  },
  {
   "cell_type": "code",
   "execution_count": null,
   "id": "d1604e86",
   "metadata": {},
   "outputs": [],
   "source": []
  },
  {
   "cell_type": "code",
   "execution_count": null,
   "id": "6762cf93",
   "metadata": {},
   "outputs": [],
   "source": []
  },
  {
   "cell_type": "code",
   "execution_count": null,
   "id": "dba4339e",
   "metadata": {},
   "outputs": [],
   "source": []
  },
  {
   "cell_type": "code",
   "execution_count": null,
   "id": "2c6264f7",
   "metadata": {},
   "outputs": [],
   "source": []
  },
  {
   "cell_type": "code",
   "execution_count": null,
   "id": "fad8f474",
   "metadata": {},
   "outputs": [],
   "source": []
  },
  {
   "cell_type": "code",
   "execution_count": null,
   "id": "fbb8583e",
   "metadata": {},
   "outputs": [],
   "source": []
  }
 ],
 "metadata": {
  "kernelspec": {
   "display_name": "Python 3 (ipykernel)",
   "language": "python",
   "name": "python3"
  },
  "language_info": {
   "codemirror_mode": {
    "name": "ipython",
    "version": 3
   },
   "file_extension": ".py",
   "mimetype": "text/x-python",
   "name": "python",
   "nbconvert_exporter": "python",
   "pygments_lexer": "ipython3",
   "version": "3.9.7"
  }
 },
 "nbformat": 4,
 "nbformat_minor": 5
}
